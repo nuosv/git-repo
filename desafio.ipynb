{
 "cells": [
  {
   "cell_type": "code",
   "execution_count": 1,
   "metadata": {},
   "outputs": [],
   "source": [
    "import pandas as pd\n",
    "import numpy as np"
   ]
  },
  {
   "cell_type": "code",
   "execution_count": 2,
   "metadata": {},
   "outputs": [
    {
     "data": {
      "text/plain": [
       "22"
      ]
     },
     "execution_count": 2,
     "metadata": {},
     "output_type": "execute_result"
    }
   ],
   "source": [
    "data = pd.read_csv('./Data/exercise_results_labelled.csv')\n",
    "len(data.columns)"
   ]
  },
  {
   "cell_type": "code",
   "execution_count": 3,
   "metadata": {},
   "outputs": [
    {
     "data": {
      "text/html": [
       "<div>\n",
       "<style scoped>\n",
       "    .dataframe tbody tr th:only-of-type {\n",
       "        vertical-align: middle;\n",
       "    }\n",
       "\n",
       "    .dataframe tbody tr th {\n",
       "        vertical-align: top;\n",
       "    }\n",
       "\n",
       "    .dataframe thead th {\n",
       "        text-align: right;\n",
       "    }\n",
       "</style>\n",
       "<table border=\"1\" class=\"dataframe\">\n",
       "  <thead>\n",
       "    <tr style=\"text-align: right;\">\n",
       "      <th></th>\n",
       "      <th>session_group</th>\n",
       "      <th>exercise_name</th>\n",
       "      <th>exercise_order</th>\n",
       "      <th>session_exercise_result_id</th>\n",
       "      <th>prescribed_repeats</th>\n",
       "      <th>training_time</th>\n",
       "      <th>app_version</th>\n",
       "      <th>pain</th>\n",
       "      <th>fatigue</th>\n",
       "      <th>leave_session</th>\n",
       "      <th>...</th>\n",
       "      <th>therapy_name</th>\n",
       "      <th>condition</th>\n",
       "      <th>CM</th>\n",
       "      <th>WTE</th>\n",
       "      <th>ITE</th>\n",
       "      <th>GU</th>\n",
       "      <th>OML</th>\n",
       "      <th>WD</th>\n",
       "      <th>WM</th>\n",
       "      <th>quality</th>\n",
       "    </tr>\n",
       "  </thead>\n",
       "  <tbody>\n",
       "    <tr>\n",
       "      <th>0</th>\n",
       "      <td>MLi8mxTUh95PVrvfIJ5hzCCmi4k=</td>\n",
       "      <td>hip_flexion_with_knee_bending_standing</td>\n",
       "      <td>1</td>\n",
       "      <td>1223643</td>\n",
       "      <td>20</td>\n",
       "      <td>63</td>\n",
       "      <td>202623131</td>\n",
       "      <td>6.0</td>\n",
       "      <td>4.0</td>\n",
       "      <td>NaN</td>\n",
       "      <td>...</td>\n",
       "      <td>knee</td>\n",
       "      <td>post_surgical_acl_reconstruction</td>\n",
       "      <td>20.0</td>\n",
       "      <td>0.0</td>\n",
       "      <td>0.0</td>\n",
       "      <td>0.0</td>\n",
       "      <td>0.0</td>\n",
       "      <td>0.0</td>\n",
       "      <td>0.0</td>\n",
       "      <td>ok</td>\n",
       "    </tr>\n",
       "    <tr>\n",
       "      <th>1</th>\n",
       "      <td>MLi8mxTUh95PVrvfIJ5hzCCmi4k=</td>\n",
       "      <td>unilateral_bridge_lying</td>\n",
       "      <td>15</td>\n",
       "      <td>1223657</td>\n",
       "      <td>12</td>\n",
       "      <td>45</td>\n",
       "      <td>202623131</td>\n",
       "      <td>6.0</td>\n",
       "      <td>4.0</td>\n",
       "      <td>NaN</td>\n",
       "      <td>...</td>\n",
       "      <td>knee</td>\n",
       "      <td>post_surgical_acl_reconstruction</td>\n",
       "      <td>12.0</td>\n",
       "      <td>0.0</td>\n",
       "      <td>0.0</td>\n",
       "      <td>0.0</td>\n",
       "      <td>0.0</td>\n",
       "      <td>0.0</td>\n",
       "      <td>0.0</td>\n",
       "      <td>ok</td>\n",
       "    </tr>\n",
       "    <tr>\n",
       "      <th>2</th>\n",
       "      <td>MLi8mxTUh95PVrvfIJ5hzCCmi4k=</td>\n",
       "      <td>forward_lunge_standing</td>\n",
       "      <td>7</td>\n",
       "      <td>1223649</td>\n",
       "      <td>12</td>\n",
       "      <td>75</td>\n",
       "      <td>202623131</td>\n",
       "      <td>6.0</td>\n",
       "      <td>4.0</td>\n",
       "      <td>NaN</td>\n",
       "      <td>...</td>\n",
       "      <td>knee</td>\n",
       "      <td>post_surgical_acl_reconstruction</td>\n",
       "      <td>12.0</td>\n",
       "      <td>0.0</td>\n",
       "      <td>0.0</td>\n",
       "      <td>0.0</td>\n",
       "      <td>0.0</td>\n",
       "      <td>0.0</td>\n",
       "      <td>0.0</td>\n",
       "      <td>ok</td>\n",
       "    </tr>\n",
       "    <tr>\n",
       "      <th>3</th>\n",
       "      <td>MLi8mxTUh95PVrvfIJ5hzCCmi4k=</td>\n",
       "      <td>squat_standing</td>\n",
       "      <td>2</td>\n",
       "      <td>1223644</td>\n",
       "      <td>15</td>\n",
       "      <td>67</td>\n",
       "      <td>202623131</td>\n",
       "      <td>6.0</td>\n",
       "      <td>4.0</td>\n",
       "      <td>NaN</td>\n",
       "      <td>...</td>\n",
       "      <td>knee</td>\n",
       "      <td>post_surgical_acl_reconstruction</td>\n",
       "      <td>15.0</td>\n",
       "      <td>0.0</td>\n",
       "      <td>0.0</td>\n",
       "      <td>0.0</td>\n",
       "      <td>0.0</td>\n",
       "      <td>0.0</td>\n",
       "      <td>0.0</td>\n",
       "      <td>ok</td>\n",
       "    </tr>\n",
       "    <tr>\n",
       "      <th>4</th>\n",
       "      <td>MLi8mxTUh95PVrvfIJ5hzCCmi4k=</td>\n",
       "      <td>plantar_flexion_standing</td>\n",
       "      <td>8</td>\n",
       "      <td>1223650</td>\n",
       "      <td>12</td>\n",
       "      <td>38</td>\n",
       "      <td>202623131</td>\n",
       "      <td>6.0</td>\n",
       "      <td>4.0</td>\n",
       "      <td>NaN</td>\n",
       "      <td>...</td>\n",
       "      <td>knee</td>\n",
       "      <td>post_surgical_acl_reconstruction</td>\n",
       "      <td>12.0</td>\n",
       "      <td>0.0</td>\n",
       "      <td>0.0</td>\n",
       "      <td>0.0</td>\n",
       "      <td>0.0</td>\n",
       "      <td>0.0</td>\n",
       "      <td>0.0</td>\n",
       "      <td>ok</td>\n",
       "    </tr>\n",
       "  </tbody>\n",
       "</table>\n",
       "<p>5 rows × 22 columns</p>\n",
       "</div>"
      ],
      "text/plain": [
       "                  session_group                           exercise_name  \\\n",
       "0  MLi8mxTUh95PVrvfIJ5hzCCmi4k=  hip_flexion_with_knee_bending_standing   \n",
       "1  MLi8mxTUh95PVrvfIJ5hzCCmi4k=                 unilateral_bridge_lying   \n",
       "2  MLi8mxTUh95PVrvfIJ5hzCCmi4k=                  forward_lunge_standing   \n",
       "3  MLi8mxTUh95PVrvfIJ5hzCCmi4k=                          squat_standing   \n",
       "4  MLi8mxTUh95PVrvfIJ5hzCCmi4k=                plantar_flexion_standing   \n",
       "\n",
       "   exercise_order  session_exercise_result_id  prescribed_repeats  \\\n",
       "0               1                     1223643                  20   \n",
       "1              15                     1223657                  12   \n",
       "2               7                     1223649                  12   \n",
       "3               2                     1223644                  15   \n",
       "4               8                     1223650                  12   \n",
       "\n",
       "   training_time  app_version  pain  fatigue leave_session  ... therapy_name  \\\n",
       "0             63    202623131   6.0      4.0           NaN  ...         knee   \n",
       "1             45    202623131   6.0      4.0           NaN  ...         knee   \n",
       "2             75    202623131   6.0      4.0           NaN  ...         knee   \n",
       "3             67    202623131   6.0      4.0           NaN  ...         knee   \n",
       "4             38    202623131   6.0      4.0           NaN  ...         knee   \n",
       "\n",
       "                          condition    CM  WTE  ITE   GU  OML   WD   WM  \\\n",
       "0  post_surgical_acl_reconstruction  20.0  0.0  0.0  0.0  0.0  0.0  0.0   \n",
       "1  post_surgical_acl_reconstruction  12.0  0.0  0.0  0.0  0.0  0.0  0.0   \n",
       "2  post_surgical_acl_reconstruction  12.0  0.0  0.0  0.0  0.0  0.0  0.0   \n",
       "3  post_surgical_acl_reconstruction  15.0  0.0  0.0  0.0  0.0  0.0  0.0   \n",
       "4  post_surgical_acl_reconstruction  12.0  0.0  0.0  0.0  0.0  0.0  0.0   \n",
       "\n",
       "   quality  \n",
       "0       ok  \n",
       "1       ok  \n",
       "2       ok  \n",
       "3       ok  \n",
       "4       ok  \n",
       "\n",
       "[5 rows x 22 columns]"
      ]
     },
     "execution_count": 3,
     "metadata": {},
     "output_type": "execute_result"
    }
   ],
   "source": [
    "data.head()"
   ]
  },
  {
   "cell_type": "code",
   "execution_count": 4,
   "metadata": {},
   "outputs": [
    {
     "data": {
      "text/plain": [
       "leave_exercise\n",
       "pain              447\n",
       "other             344\n",
       "system_problem    334\n",
       "tired             110\n",
       "Name: count, dtype: int64"
      ]
     },
     "execution_count": 4,
     "metadata": {},
     "output_type": "execute_result"
    }
   ],
   "source": [
    "data['leave_exercise'].value_counts()"
   ]
  },
  {
   "cell_type": "code",
   "execution_count": 5,
   "metadata": {},
   "outputs": [
    {
     "name": "stdout",
     "output_type": "stream",
     "text": [
      "session_group                      0\n",
      "exercise_name                      0\n",
      "exercise_order                     0\n",
      "session_exercise_result_id         0\n",
      "prescribed_repeats                 0\n",
      "training_time                      0\n",
      "app_version                        0\n",
      "pain                            2405\n",
      "fatigue                         2417\n",
      "leave_session                 143874\n",
      "leave_exercise                145794\n",
      "exercise_side                      0\n",
      "therapy_name                       0\n",
      "condition                          0\n",
      "CM                              3050\n",
      "WTE                             3050\n",
      "ITE                             3050\n",
      "GU                              3050\n",
      "OML                             3050\n",
      "WD                              3050\n",
      "WM                              3050\n",
      "quality                            0\n",
      "dtype: int64\n"
     ]
    }
   ],
   "source": [
    "missing_values = data.isna().sum()\n",
    "print(missing_values)"
   ]
  },
  {
   "cell_type": "code",
   "execution_count": 6,
   "metadata": {},
   "outputs": [
    {
     "data": {
      "text/plain": [
       "dtype('O')"
      ]
     },
     "execution_count": 6,
     "metadata": {},
     "output_type": "execute_result"
    }
   ],
   "source": [
    "data.loc[:,'leave_exercise'].dtypes"
   ]
  },
  {
   "cell_type": "code",
   "execution_count": 7,
   "metadata": {},
   "outputs": [
    {
     "data": {
      "text/plain": [
       "session_group                 pain\n",
       "znR+8goLiChIObQEeU4W1JSlCcE=  4.0     44\n",
       "9A/XukdvOEZ2PTj3NlcuJEDuOeg=  4.0     44\n",
       "gIyIJcoEI7hjNCa3tKrr3vgu71k=  4.0     44\n",
       "6c9LwC69VXQIYQyfelQ6uNE+n3I=  4.0     44\n",
       "PclmpMqx2d5ab/JG7AIVxM6IjHg=  4.0     44\n",
       "                                      ..\n",
       "CrUhwpebb+BGf5A0ZajKrIaZ4B4=  0.0      2\n",
       "arnF2856kXCuZFz2eZluHOWsvQY=  0.0      1\n",
       "JtoHvEhrR4bVI3RXNbbWRsv9WU0=  2.0      1\n",
       "NGzMXQihy4Q/W8u1bjEDk97rR5k=  2.0      1\n",
       "Bvzc4pC/pGOBW4KL+T0RcHMp7cs=  4.0      1\n",
       "Name: count, Length: 6983, dtype: int64"
      ]
     },
     "execution_count": 7,
     "metadata": {},
     "output_type": "execute_result"
    }
   ],
   "source": [
    "data[['session_group','pain']].value_counts()"
   ]
  },
  {
   "cell_type": "code",
   "execution_count": 8,
   "metadata": {},
   "outputs": [
    {
     "data": {
      "text/plain": [
       "app_version\n",
       "202623131    60166\n",
       "203224171    54309\n",
       "203051191    31946\n",
       "203041191      608\n",
       "Name: count, dtype: int64"
      ]
     },
     "execution_count": 8,
     "metadata": {},
     "output_type": "execute_result"
    }
   ],
   "source": [
    "data['app_version'].value_counts()"
   ]
  },
  {
   "cell_type": "code",
   "execution_count": 9,
   "metadata": {},
   "outputs": [
    {
     "data": {
      "text/plain": [
       "str"
      ]
     },
     "execution_count": 9,
     "metadata": {},
     "output_type": "execute_result"
    }
   ],
   "source": [
    "type(data.loc[0, 'session_group'])"
   ]
  },
  {
   "cell_type": "code",
   "execution_count": 10,
   "metadata": {},
   "outputs": [
    {
     "data": {
      "text/plain": [
       "session_group                  object\n",
       "exercise_name                  object\n",
       "exercise_order                  int64\n",
       "session_exercise_result_id      int64\n",
       "prescribed_repeats              int64\n",
       "training_time                   int64\n",
       "app_version                     int64\n",
       "pain                          float64\n",
       "fatigue                       float64\n",
       "leave_session                  object\n",
       "leave_exercise                 object\n",
       "exercise_side                  object\n",
       "therapy_name                   object\n",
       "condition                      object\n",
       "CM                            float64\n",
       "WTE                           float64\n",
       "ITE                           float64\n",
       "GU                            float64\n",
       "OML                           float64\n",
       "WD                            float64\n",
       "WM                            float64\n",
       "quality                        object\n",
       "dtype: object"
      ]
     },
     "execution_count": 10,
     "metadata": {},
     "output_type": "execute_result"
    }
   ],
   "source": [
    "data.dtypes"
   ]
  },
  {
   "cell_type": "code",
   "execution_count": 11,
   "metadata": {},
   "outputs": [
    {
     "data": {
      "text/plain": [
       "session_group                      0\n",
       "exercise_name                      0\n",
       "exercise_order                     0\n",
       "session_exercise_result_id         0\n",
       "prescribed_repeats                 0\n",
       "training_time                      0\n",
       "app_version                        0\n",
       "pain                            2405\n",
       "fatigue                         2417\n",
       "leave_session                 143874\n",
       "leave_exercise                145794\n",
       "exercise_side                      0\n",
       "therapy_name                       0\n",
       "condition                          0\n",
       "CM                              3050\n",
       "WTE                             3050\n",
       "ITE                             3050\n",
       "GU                              3050\n",
       "OML                             3050\n",
       "WD                              3050\n",
       "WM                              3050\n",
       "quality                            0\n",
       "dtype: int64"
      ]
     },
     "execution_count": 11,
     "metadata": {},
     "output_type": "execute_result"
    }
   ],
   "source": [
    "data.isna().sum()"
   ]
  },
  {
   "cell_type": "code",
   "execution_count": 12,
   "metadata": {},
   "outputs": [
    {
     "name": "stdout",
     "output_type": "stream",
     "text": [
      "Columns with NaN values:\n",
      "['pain', 'fatigue', 'leave_session', 'leave_exercise', 'CM', 'WTE', 'ITE', 'GU', 'OML', 'WD', 'WM']\n"
     ]
    }
   ],
   "source": [
    "# Check for NaN values in each column\n",
    "nan_columns = data.columns[data.isna().any()].tolist()\n",
    "print(\"Columns with NaN values:\")\n",
    "print(nan_columns)"
   ]
  },
  {
   "cell_type": "code",
   "execution_count": 13,
   "metadata": {},
   "outputs": [],
   "source": [
    "# Taking care of NaN values:\n",
    "data['leave_exercise'] = data['leave_exercise'].fillna('')\n",
    "data['leave_session'] = data['leave_session'].fillna('')\n",
    "data['pain'] = data['pain'].fillna(0)\n",
    "data['fatigue'] = data['fatigue'].fillna(0)\n",
    "data['CM'] = data['CM'].fillna(0)\n",
    "data['WTE'] = data['WTE'].fillna(0)\n",
    "data['ITE'] = data['ITE'].fillna(0)\n",
    "data['GU'] = data['GU'].fillna(0)\n",
    "data['OML'] = data['OML'].fillna(0)\n",
    "data['WD'] = data['WD'].fillna(0)\n",
    "data['WM'] = data['WM'].fillna(0)\n",
    "\n",
    "\n",
    "\n",
    "# data['CM'] = data['CM'].fillna(0)\n",
    "# Converting to numeric type:\n",
    "data['CM'] = pd.to_numeric(data['CM'], errors='coerce')\n",
    "data['WTE']= pd.to_numeric(data['WTE'], errors='coerce')\n",
    "data['ITE']= pd.to_numeric(data['ITE'], errors='coerce')\n",
    "data['GU']= pd.to_numeric(data['GU'], errors='coerce')\n",
    "data['OML']= pd.to_numeric(data['OML'], errors='coerce')\n",
    "data['WD']= pd.to_numeric(data['WD'], errors='coerce')\n",
    "data['WM']= pd.to_numeric(data['WM'], errors='coerce')\n",
    "data['prescribed_repeats'] = pd.to_numeric(data['prescribed_repeats'], errors='coerce')"
   ]
  },
  {
   "cell_type": "code",
   "execution_count": 14,
   "metadata": {},
   "outputs": [
    {
     "data": {
      "text/plain": [
       "session_group                 0\n",
       "exercise_name                 0\n",
       "exercise_order                0\n",
       "session_exercise_result_id    0\n",
       "prescribed_repeats            0\n",
       "training_time                 0\n",
       "app_version                   0\n",
       "pain                          0\n",
       "fatigue                       0\n",
       "leave_session                 0\n",
       "leave_exercise                0\n",
       "exercise_side                 0\n",
       "therapy_name                  0\n",
       "condition                     0\n",
       "CM                            0\n",
       "WTE                           0\n",
       "ITE                           0\n",
       "GU                            0\n",
       "OML                           0\n",
       "WD                            0\n",
       "WM                            0\n",
       "quality                       0\n",
       "dtype: int64"
      ]
     },
     "execution_count": 14,
     "metadata": {},
     "output_type": "execute_result"
    }
   ],
   "source": [
    "data.isna().sum()"
   ]
  },
  {
   "cell_type": "code",
   "execution_count": 15,
   "metadata": {},
   "outputs": [],
   "source": [
    "data['leave_exercise_pain'] = data['leave_exercise'].str.contains('pain').astype(int)\n",
    "data['leave_exercise_fatigue'] = data['leave_exercise'].str.contains('fatigue').astype(int)\n",
    "data['leave_exercise_tired'] = data['leave_exercise'].str.contains('tired').astype(int)\n",
    "# data['quality'] = 'ok'\n",
    "# data.loc[(data['leave_session'] == 'system_problem') | (data['leave_exercise'] == 'system_problem'), 'quality'] = 'nok'\n",
    "data['leave_exercise_system_problem'] = data['leave_exercise'].str.contains('system_problem').astype(int)\n",
    "data['leave_exercise_other'] = data['leave_exercise'].str.contains('other').astype(int)\n",
    "data['total_repetitions_performed'] = data['CM'] + data['WTE'] + data['ITE'] + data['GU'] + data['OML'] + data['WD'] + data['WM']\n",
    "data['number_exercises'] = 1 if data['exercise_name'].any() else 0\n",
    "data['exercise_name_count'] = data['exercise_name']\n",
    "data['total_incorrect_moves_in_exercise'] = data['total_repetitions_performed'] - data['CM']\n"
   ]
  },
  {
   "cell_type": "code",
   "execution_count": 16,
   "metadata": {},
   "outputs": [
    {
     "data": {
      "text/plain": [
       "dtype('float64')"
      ]
     },
     "execution_count": 16,
     "metadata": {},
     "output_type": "execute_result"
    }
   ],
   "source": [
    "data['total_repetitions_performed'].dtype"
   ]
  },
  {
   "cell_type": "code",
   "execution_count": 17,
   "metadata": {},
   "outputs": [
    {
     "name": "stdout",
     "output_type": "stream",
     "text": [
      "session_group                        0\n",
      "exercise_name                        0\n",
      "exercise_order                       0\n",
      "session_exercise_result_id           0\n",
      "prescribed_repeats                   0\n",
      "training_time                        0\n",
      "app_version                          0\n",
      "pain                                 0\n",
      "fatigue                              0\n",
      "leave_session                        0\n",
      "leave_exercise                       0\n",
      "exercise_side                        0\n",
      "therapy_name                         0\n",
      "condition                            0\n",
      "CM                                   0\n",
      "WTE                                  0\n",
      "ITE                                  0\n",
      "GU                                   0\n",
      "OML                                  0\n",
      "WD                                   0\n",
      "WM                                   0\n",
      "quality                              0\n",
      "leave_exercise_pain                  0\n",
      "leave_exercise_fatigue               0\n",
      "leave_exercise_tired                 0\n",
      "leave_exercise_system_problem        0\n",
      "leave_exercise_other                 0\n",
      "total_repetitions_performed          0\n",
      "number_exercises                     0\n",
      "exercise_name_count                  0\n",
      "total_incorrect_moves_in_exercise    0\n",
      "dtype: int64\n"
     ]
    }
   ],
   "source": [
    "missing_values = data.isna().sum()\n",
    "print(missing_values)"
   ]
  },
  {
   "cell_type": "code",
   "execution_count": 18,
   "metadata": {},
   "outputs": [
    {
     "data": {
      "text/plain": [
       "Index(['session_group', 'exercise_name', 'exercise_order',\n",
       "       'session_exercise_result_id', 'prescribed_repeats', 'training_time',\n",
       "       'app_version', 'pain', 'fatigue', 'leave_session', 'leave_exercise',\n",
       "       'exercise_side', 'therapy_name', 'condition', 'CM', 'WTE', 'ITE', 'GU',\n",
       "       'OML', 'WD', 'WM', 'quality', 'leave_exercise_pain',\n",
       "       'leave_exercise_fatigue', 'leave_exercise_tired',\n",
       "       'leave_exercise_system_problem', 'leave_exercise_other',\n",
       "       'total_repetitions_performed', 'number_exercises',\n",
       "       'exercise_name_count', 'total_incorrect_moves_in_exercise'],\n",
       "      dtype='object')"
      ]
     },
     "execution_count": 18,
     "metadata": {},
     "output_type": "execute_result"
    }
   ],
   "source": [
    "data.columns"
   ]
  },
  {
   "cell_type": "code",
   "execution_count": 19,
   "metadata": {},
   "outputs": [
    {
     "data": {
      "text/plain": [
       "0         0.0\n",
       "1         0.0\n",
       "2         0.0\n",
       "3         0.0\n",
       "4         0.0\n",
       "         ... \n",
       "147024    0.0\n",
       "147025    2.0\n",
       "147026    0.0\n",
       "147027    0.0\n",
       "147028    0.0\n",
       "Name: total_incorrect_moves_in_exercise, Length: 147029, dtype: float64"
      ]
     },
     "execution_count": 19,
     "metadata": {},
     "output_type": "execute_result"
    }
   ],
   "source": [
    "data['total_incorrect_moves_in_exercise']"
   ]
  },
  {
   "cell_type": "code",
   "execution_count": 20,
   "metadata": {},
   "outputs": [
    {
     "name": "stdout",
     "output_type": "stream",
     "text": [
      "                  session_group                           exercise_name  \\\n",
      "0  MLi8mxTUh95PVrvfIJ5hzCCmi4k=  hip_flexion_with_knee_bending_standing   \n",
      "1  MLi8mxTUh95PVrvfIJ5hzCCmi4k=                 unilateral_bridge_lying   \n",
      "2  MLi8mxTUh95PVrvfIJ5hzCCmi4k=                  forward_lunge_standing   \n",
      "3  MLi8mxTUh95PVrvfIJ5hzCCmi4k=                          squat_standing   \n",
      "4  MLi8mxTUh95PVrvfIJ5hzCCmi4k=                plantar_flexion_standing   \n",
      "\n",
      "   exercise_order  session_exercise_result_id  prescribed_repeats  \\\n",
      "0               1                     1223643                  20   \n",
      "1              15                     1223657                  12   \n",
      "2               7                     1223649                  12   \n",
      "3               2                     1223644                  15   \n",
      "4               8                     1223650                  12   \n",
      "\n",
      "   training_time  app_version  pain  fatigue leave_session  ... quality  \\\n",
      "0             63    202623131   6.0      4.0                ...      ok   \n",
      "1             45    202623131   6.0      4.0                ...      ok   \n",
      "2             75    202623131   6.0      4.0                ...      ok   \n",
      "3             67    202623131   6.0      4.0                ...      ok   \n",
      "4             38    202623131   6.0      4.0                ...      ok   \n",
      "\n",
      "  leave_exercise_pain leave_exercise_fatigue leave_exercise_tired  \\\n",
      "0                   0                      0                    0   \n",
      "1                   0                      0                    0   \n",
      "2                   0                      0                    0   \n",
      "3                   0                      0                    0   \n",
      "4                   0                      0                    0   \n",
      "\n",
      "   leave_exercise_system_problem  leave_exercise_other  \\\n",
      "0                              0                     0   \n",
      "1                              0                     0   \n",
      "2                              0                     0   \n",
      "3                              0                     0   \n",
      "4                              0                     0   \n",
      "\n",
      "   total_repetitions_performed  number_exercises  \\\n",
      "0                         20.0                 1   \n",
      "1                         12.0                 1   \n",
      "2                         12.0                 1   \n",
      "3                         15.0                 1   \n",
      "4                         12.0                 1   \n",
      "\n",
      "                      exercise_name_count  total_incorrect_moves_in_exercise  \n",
      "0  hip_flexion_with_knee_bending_standing                                0.0  \n",
      "1                 unilateral_bridge_lying                                0.0  \n",
      "2                  forward_lunge_standing                                0.0  \n",
      "3                          squat_standing                                0.0  \n",
      "4                plantar_flexion_standing                                0.0  \n",
      "\n",
      "[5 rows x 31 columns]\n"
     ]
    }
   ],
   "source": [
    "print(data.head())"
   ]
  },
  {
   "cell_type": "code",
   "execution_count": 21,
   "metadata": {},
   "outputs": [
    {
     "name": "stdout",
     "output_type": "stream",
     "text": [
      "Index(['session_group', 'exercise_name', 'exercise_order',\n",
      "       'session_exercise_result_id', 'prescribed_repeats', 'training_time',\n",
      "       'app_version', 'pain', 'fatigue', 'leave_session', 'leave_exercise',\n",
      "       'exercise_side', 'therapy_name', 'condition', 'CM', 'WTE', 'ITE', 'GU',\n",
      "       'OML', 'WD', 'WM', 'quality', 'leave_exercise_pain',\n",
      "       'leave_exercise_fatigue', 'leave_exercise_tired',\n",
      "       'leave_exercise_system_problem', 'leave_exercise_other',\n",
      "       'total_repetitions_performed', 'number_exercises',\n",
      "       'exercise_name_count', 'total_incorrect_moves_in_exercise'],\n",
      "      dtype='object')\n"
     ]
    }
   ],
   "source": [
    "print(data.columns)"
   ]
  },
  {
   "cell_type": "code",
   "execution_count": 22,
   "metadata": {},
   "outputs": [],
   "source": [
    "data_session_group = data.groupby('session_group', as_index = True).agg(\n",
    "    app_version=('app_version', 'first'),\n",
    "    therapy_name=('therapy_name', 'first'),\n",
    "    condition=('condition', 'first'),\n",
    "    pain=('pain', 'first'),\n",
    "    fatigue=('fatigue', 'first'),\n",
    "    leave_session=('leave_session', 'first'),\n",
    "    quality=('quality', 'first'),\n",
    "    leave_exercise_pain=('leave_exercise_pain', lambda x: sum(x == 1)),\n",
    "    leave_exercise_fatigue=('leave_exercise_fatigue', lambda x: sum(x == 1)),\n",
    "    leave_exercise_other=('leave_exercise_other', lambda x: sum(x == 1)),\n",
    "    leave_exercise_tired=('leave_exercise_tired', lambda x: sum(x == 1)),\n",
    "    leave_exercise_system_problem=('leave_exercise_system_problem', lambda x: sum(x == 1)),\n",
    "    prescribed_repeats=('prescribed_repeats', 'sum'),\n",
    "    training_time=('training_time', 'sum'),\n",
    "    CM=('CM', 'sum'),\n",
    "    WTE=('WTE', 'sum'),\n",
    "    ITE=('ITE', 'sum'),\n",
    "    GU=('GU', 'sum'),\n",
    "    OML=('OML', 'sum'),\n",
    "    WD=('WD', 'sum'),\n",
    "    WM=('WM', 'sum'),\n",
    "    number_exercises=('number_exercises', 'sum'),\n",
    "    exercise_name=('exercise_name', 'nunique'),\n",
    "    total_repetitions_performed=('total_repetitions_performed', 'sum'),\n",
    "    total_incorrect_moves_in_exercise=('total_incorrect_moves_in_exercise', lambda x: data.loc[x.idxmax(), 'exercise_name'] if x.max() > 0 else np.nan),\n",
    "    leave_exercise=('leave_exercise', lambda x: data.loc[x.first_valid_index(), 'exercise_name'])\n",
    ")"
   ]
  },
  {
   "cell_type": "code",
   "execution_count": 23,
   "metadata": {},
   "outputs": [
    {
     "ename": "KeyError",
     "evalue": "'Requested level (app_version) does not match index name (session_group)'",
     "output_type": "error",
     "traceback": [
      "\u001b[1;31m---------------------------------------------------------------------------\u001b[0m",
      "\u001b[1;31mKeyError\u001b[0m                                  Traceback (most recent call last)",
      "Cell \u001b[1;32mIn[23], line 1\u001b[0m\n\u001b[1;32m----> 1\u001b[0m data_session_group \u001b[38;5;241m=\u001b[39m \u001b[43mdata_session_group\u001b[49m\u001b[38;5;241;43m.\u001b[39;49m\u001b[43mreset_index\u001b[49m\u001b[43m(\u001b[49m\u001b[38;5;124;43m'\u001b[39;49m\u001b[38;5;124;43mapp_version\u001b[39;49m\u001b[38;5;124;43m'\u001b[39;49m\u001b[43m)\u001b[49m\n",
      "File \u001b[1;32mc:\\Users\\nuosv\\AppData\\Local\\pypoetry\\Cache\\virtualenvs\\sword-challenge-project-tJD-1hXR-py3.11\\Lib\\site-packages\\pandas\\core\\frame.py:6412\u001b[0m, in \u001b[0;36mDataFrame.reset_index\u001b[1;34m(self, level, drop, inplace, col_level, col_fill, allow_duplicates, names)\u001b[0m\n\u001b[0;32m   6410\u001b[0m \u001b[38;5;28;01mif\u001b[39;00m \u001b[38;5;129;01mnot\u001b[39;00m \u001b[38;5;28misinstance\u001b[39m(level, (\u001b[38;5;28mtuple\u001b[39m, \u001b[38;5;28mlist\u001b[39m)):\n\u001b[0;32m   6411\u001b[0m     level \u001b[38;5;241m=\u001b[39m [level]\n\u001b[1;32m-> 6412\u001b[0m level \u001b[38;5;241m=\u001b[39m \u001b[43m[\u001b[49m\u001b[38;5;28;43mself\u001b[39;49m\u001b[38;5;241;43m.\u001b[39;49m\u001b[43mindex\u001b[49m\u001b[38;5;241;43m.\u001b[39;49m\u001b[43m_get_level_number\u001b[49m\u001b[43m(\u001b[49m\u001b[43mlev\u001b[49m\u001b[43m)\u001b[49m\u001b[43m \u001b[49m\u001b[38;5;28;43;01mfor\u001b[39;49;00m\u001b[43m \u001b[49m\u001b[43mlev\u001b[49m\u001b[43m \u001b[49m\u001b[38;5;129;43;01min\u001b[39;49;00m\u001b[43m \u001b[49m\u001b[43mlevel\u001b[49m\u001b[43m]\u001b[49m\n\u001b[0;32m   6413\u001b[0m \u001b[38;5;28;01mif\u001b[39;00m \u001b[38;5;28mlen\u001b[39m(level) \u001b[38;5;241m<\u001b[39m \u001b[38;5;28mself\u001b[39m\u001b[38;5;241m.\u001b[39mindex\u001b[38;5;241m.\u001b[39mnlevels:\n\u001b[0;32m   6414\u001b[0m     new_index \u001b[38;5;241m=\u001b[39m \u001b[38;5;28mself\u001b[39m\u001b[38;5;241m.\u001b[39mindex\u001b[38;5;241m.\u001b[39mdroplevel(level)\n",
      "File \u001b[1;32mc:\\Users\\nuosv\\AppData\\Local\\pypoetry\\Cache\\virtualenvs\\sword-challenge-project-tJD-1hXR-py3.11\\Lib\\site-packages\\pandas\\core\\frame.py:6412\u001b[0m, in \u001b[0;36m<listcomp>\u001b[1;34m(.0)\u001b[0m\n\u001b[0;32m   6410\u001b[0m \u001b[38;5;28;01mif\u001b[39;00m \u001b[38;5;129;01mnot\u001b[39;00m \u001b[38;5;28misinstance\u001b[39m(level, (\u001b[38;5;28mtuple\u001b[39m, \u001b[38;5;28mlist\u001b[39m)):\n\u001b[0;32m   6411\u001b[0m     level \u001b[38;5;241m=\u001b[39m [level]\n\u001b[1;32m-> 6412\u001b[0m level \u001b[38;5;241m=\u001b[39m [\u001b[38;5;28;43mself\u001b[39;49m\u001b[38;5;241;43m.\u001b[39;49m\u001b[43mindex\u001b[49m\u001b[38;5;241;43m.\u001b[39;49m\u001b[43m_get_level_number\u001b[49m\u001b[43m(\u001b[49m\u001b[43mlev\u001b[49m\u001b[43m)\u001b[49m \u001b[38;5;28;01mfor\u001b[39;00m lev \u001b[38;5;129;01min\u001b[39;00m level]\n\u001b[0;32m   6413\u001b[0m \u001b[38;5;28;01mif\u001b[39;00m \u001b[38;5;28mlen\u001b[39m(level) \u001b[38;5;241m<\u001b[39m \u001b[38;5;28mself\u001b[39m\u001b[38;5;241m.\u001b[39mindex\u001b[38;5;241m.\u001b[39mnlevels:\n\u001b[0;32m   6414\u001b[0m     new_index \u001b[38;5;241m=\u001b[39m \u001b[38;5;28mself\u001b[39m\u001b[38;5;241m.\u001b[39mindex\u001b[38;5;241m.\u001b[39mdroplevel(level)\n",
      "File \u001b[1;32mc:\\Users\\nuosv\\AppData\\Local\\pypoetry\\Cache\\virtualenvs\\sword-challenge-project-tJD-1hXR-py3.11\\Lib\\site-packages\\pandas\\core\\indexes\\base.py:2017\u001b[0m, in \u001b[0;36mIndex._get_level_number\u001b[1;34m(self, level)\u001b[0m\n\u001b[0;32m   2016\u001b[0m \u001b[38;5;28;01mdef\u001b[39;00m \u001b[38;5;21m_get_level_number\u001b[39m(\u001b[38;5;28mself\u001b[39m, level) \u001b[38;5;241m-\u001b[39m\u001b[38;5;241m>\u001b[39m \u001b[38;5;28mint\u001b[39m:\n\u001b[1;32m-> 2017\u001b[0m     \u001b[38;5;28;43mself\u001b[39;49m\u001b[38;5;241;43m.\u001b[39;49m\u001b[43m_validate_index_level\u001b[49m\u001b[43m(\u001b[49m\u001b[43mlevel\u001b[49m\u001b[43m)\u001b[49m\n\u001b[0;32m   2018\u001b[0m     \u001b[38;5;28;01mreturn\u001b[39;00m \u001b[38;5;241m0\u001b[39m\n",
      "File \u001b[1;32mc:\\Users\\nuosv\\AppData\\Local\\pypoetry\\Cache\\virtualenvs\\sword-challenge-project-tJD-1hXR-py3.11\\Lib\\site-packages\\pandas\\core\\indexes\\base.py:2012\u001b[0m, in \u001b[0;36mIndex._validate_index_level\u001b[1;34m(self, level)\u001b[0m\n\u001b[0;32m   2008\u001b[0m         \u001b[38;5;28;01mraise\u001b[39;00m \u001b[38;5;167;01mIndexError\u001b[39;00m(\n\u001b[0;32m   2009\u001b[0m             \u001b[38;5;124mf\u001b[39m\u001b[38;5;124m\"\u001b[39m\u001b[38;5;124mToo many levels: Index has only 1 level, not \u001b[39m\u001b[38;5;132;01m{\u001b[39;00mlevel\u001b[38;5;250m \u001b[39m\u001b[38;5;241m+\u001b[39m\u001b[38;5;250m \u001b[39m\u001b[38;5;241m1\u001b[39m\u001b[38;5;132;01m}\u001b[39;00m\u001b[38;5;124m\"\u001b[39m\n\u001b[0;32m   2010\u001b[0m         )\n\u001b[0;32m   2011\u001b[0m \u001b[38;5;28;01melif\u001b[39;00m level \u001b[38;5;241m!=\u001b[39m \u001b[38;5;28mself\u001b[39m\u001b[38;5;241m.\u001b[39mname:\n\u001b[1;32m-> 2012\u001b[0m     \u001b[38;5;28;01mraise\u001b[39;00m \u001b[38;5;167;01mKeyError\u001b[39;00m(\n\u001b[0;32m   2013\u001b[0m         \u001b[38;5;124mf\u001b[39m\u001b[38;5;124m\"\u001b[39m\u001b[38;5;124mRequested level (\u001b[39m\u001b[38;5;132;01m{\u001b[39;00mlevel\u001b[38;5;132;01m}\u001b[39;00m\u001b[38;5;124m) does not match index name (\u001b[39m\u001b[38;5;132;01m{\u001b[39;00m\u001b[38;5;28mself\u001b[39m\u001b[38;5;241m.\u001b[39mname\u001b[38;5;132;01m}\u001b[39;00m\u001b[38;5;124m)\u001b[39m\u001b[38;5;124m\"\u001b[39m\n\u001b[0;32m   2014\u001b[0m     )\n",
      "\u001b[1;31mKeyError\u001b[0m: 'Requested level (app_version) does not match index name (session_group)'"
     ]
    }
   ],
   "source": [
    "data_session_group = data_session_group.reset_index('app_version')"
   ]
  },
  {
   "cell_type": "code",
   "execution_count": null,
   "metadata": {},
   "outputs": [
    {
     "data": {
      "text/plain": [
       "session_group\n",
       "++73HsBtM9Yjm7cCGQwqxuN/Lrw=                                              NaN\n",
       "++DVzL8W7kOsaDaszXjJCgNQaVc=                 shoulder_external_rotation_lying\n",
       "++KPFJPUlbmglcKGjWydvpRby3Y=                           knee_extension_sitting\n",
       "++aAbPuW/H9vB8GWf7F/g6MADA0=                   side_lying_hip_abduction_lying\n",
       "++oF9AP4AUlaC42jG8q8Zs5n9YM=                           forward_lunge_standing\n",
       "                                                    ...                      \n",
       "zwjVPc60W6qZ/lfSuxcYg92p71o=                           shoulder_flexion_lying\n",
       "zwlFvWNyiAxlXIO+ifc95eTh3WU=                 shoulder_external_rotation_lying\n",
       "zxQ4m4xxrLc3EFK047X8yPiwX5Y=                 scapular_plane_elevation_upright\n",
       "zz0MP+s4EVb8T7MdoqBmbL9HP+0=                                wall_sit_standing\n",
       "zztmRv02lbCAZAagZshZ4kLMBh0=    shoulder_internal_rotation_in_abduction_lying\n",
       "Name: total_incorrect_moves_in_exercise, Length: 7115, dtype: object"
      ]
     },
     "execution_count": 73,
     "metadata": {},
     "output_type": "execute_result"
    }
   ],
   "source": [
    "data_session_group['total_incorrect_moves_in_exercise']"
   ]
  },
  {
   "cell_type": "code",
   "execution_count": null,
   "metadata": {},
   "outputs": [],
   "source": [
    "# Calculate 'perc_CM' for each session group\n",
    "data_session_group['perc_CM'] = data_session_group['CM'] / (data_session_group['total_repetitions_performed'])\n",
    "data_session_group['perc_CM'] = data_session_group['perc_CM'].replace([np.inf, -np.inf], 0)\n",
    "\n",
    "data_session_group['perc_WTE'] = data_session_group['WTE'] / (data_session_group['total_repetitions_performed'])\n",
    "data_session_group['perc_WTE'] = data_session_group['perc_WTE'].replace([np.inf, -np.inf], 0)\n",
    "\n",
    "data_session_group['perc_ITE'] = data_session_group['ITE'] / (data_session_group['total_repetitions_performed'])\n",
    "data_session_group['perc_ITE'] = data_session_group['perc_ITE'].replace([np.inf, -np.inf], 0)\n",
    "\n",
    "data_session_group['perc_GU'] = data_session_group['GU'] / (data_session_group['total_repetitions_performed'])\n",
    "data_session_group['perc_GU'] = data_session_group['perc_GU'].replace([np.inf, -np.inf], 0)\n",
    "\n",
    "data_session_group['perc_OML'] = data_session_group['OML'] / (data_session_group['total_repetitions_performed'])\n",
    "data_session_group['perc_OML'] = data_session_group['perc_OML'].replace([np.inf, -np.inf], 0)\n",
    "\n",
    "data_session_group['perc_WD'] = data_session_group['WD'] / (data_session_group['total_repetitions_performed'])\n",
    "data_session_group['perc_WD'] = data_session_group['perc_WD'].replace([np.inf, -np.inf], 0)\n",
    "\n",
    "data_session_group['perc_WM'] = data_session_group['WM'] / (data_session_group['total_repetitions_performed'])\n",
    "data_session_group['perc_WM'] = data_session_group['perc_WM'].replace([np.inf, -np.inf], 0)\n",
    "\n",
    "data_session_group.rename(columns={'exercise_name_count': 'number_of_distinct_exercises'}, inplace=True)\n",
    "data_session_group.loc['ZEK7A96PZPkF2AWHAIWYA/08vpc=']['number_of_distinct_exercises']\n",
    "data_session_group.rename(columns={'total_incorrect_moves_in_exercise':'exercise_with_most_incorrect'}, inplace=True)"
   ]
  },
  {
   "cell_type": "code",
   "execution_count": null,
   "metadata": {},
   "outputs": [
    {
     "data": {
      "text/plain": [
       "10"
      ]
     },
     "execution_count": 75,
     "metadata": {},
     "output_type": "execute_result"
    }
   ],
   "source": [
    "data_session_group.loc['ZEK7A96PZPkF2AWHAIWYA/08vpc=']['number_of_distinct_exercises']"
   ]
  },
  {
   "cell_type": "code",
   "execution_count": null,
   "metadata": {},
   "outputs": [
    {
     "data": {
      "text/plain": [
       "10"
      ]
     },
     "execution_count": 76,
     "metadata": {},
     "output_type": "execute_result"
    }
   ],
   "source": [
    "data_session_group.loc['ZEK7A96PZPkF2AWHAIWYA/08vpc=']['number_of_distinct_exercises']"
   ]
  },
  {
   "cell_type": "code",
   "execution_count": null,
   "metadata": {},
   "outputs": [
    {
     "data": {
      "text/plain": [
       "10"
      ]
     },
     "execution_count": 77,
     "metadata": {},
     "output_type": "execute_result"
    }
   ],
   "source": [
    "data_session_group.loc['ZEK7A96PZPkF2AWHAIWYA/08vpc=']['number_of_distinct_exercises']"
   ]
  },
  {
   "cell_type": "code",
   "execution_count": null,
   "metadata": {},
   "outputs": [
    {
     "data": {
      "text/plain": [
       "10"
      ]
     },
     "execution_count": 78,
     "metadata": {},
     "output_type": "execute_result"
    }
   ],
   "source": [
    "data_session_group.loc['ZEK7A96PZPkF2AWHAIWYA/08vpc=']['number_of_distinct_exercises']"
   ]
  },
  {
   "cell_type": "code",
   "execution_count": null,
   "metadata": {},
   "outputs": [],
   "source": [
    "data_session_group['perc_CM'] = data_session_group['perc_CM'].fillna(0)\n",
    "data_session_group['perc_WTE'] = data_session_group['perc_WTE'].fillna(0)\n",
    "data_session_group['perc_ITE'] = data_session_group['perc_ITE'].fillna(0)\n",
    "data_session_group['perc_GU'] = data_session_group['perc_GU'].fillna(0)\n",
    "data_session_group['perc_OML'] = data_session_group['perc_OML'].fillna(0)\n",
    "data_session_group['perc_WD'] = data_session_group['perc_WD'].fillna(0)\n",
    "data_session_group['perc_WM'] = data_session_group['perc_WM'].fillna(0)"
   ]
  },
  {
   "cell_type": "code",
   "execution_count": null,
   "metadata": {},
   "outputs": [
    {
     "data": {
      "text/plain": [
       "10"
      ]
     },
     "execution_count": 80,
     "metadata": {},
     "output_type": "execute_result"
    }
   ],
   "source": [
    "data_session_group.loc['ZEK7A96PZPkF2AWHAIWYA/08vpc=']['number_of_distinct_exercises']"
   ]
  },
  {
   "cell_type": "code",
   "execution_count": null,
   "metadata": {},
   "outputs": [
    {
     "data": {
      "text/plain": [
       "10"
      ]
     },
     "execution_count": 81,
     "metadata": {},
     "output_type": "execute_result"
    }
   ],
   "source": [
    "# In the groupby I calculated the unique exercises by doing a nunique method on the 'exercise_name' series.\n",
    "# I then, after the groupby, renamed the column 'exercise_name' to 'number_of_distinct_exercises'\n",
    "\n",
    "data_session_group.loc['ZEK7A96PZPkF2AWHAIWYA/08vpc=']['number_of_distinct_exercises']\n"
   ]
  },
  {
   "cell_type": "code",
   "execution_count": null,
   "metadata": {},
   "outputs": [
    {
     "name": "stdout",
     "output_type": "stream",
     "text": [
      "10\n",
      "4137\n",
      "23\n",
      "20\n"
     ]
    }
   ],
   "source": [
    "# Prints the cell using the .loc method\n",
    "print(data_session_group.loc['ZEK7A96PZPkF2AWHAIWYA/08vpc=', 'number_of_distinct_exercises'])\n",
    "\n",
    "# Prints the index of the row\n",
    "print(data_session_group.index.get_loc('ZEK7A96PZPkF2AWHAIWYA/08vpc='))\n",
    "\n",
    "# Prints the index of the column\n",
    "print(data_session_group.columns.get_loc('number_of_distinct_exercises'))\n",
    "\n",
    "# Prints the cell at the specific row and column index\n",
    "print(data_session_group.iloc[4137, 22])"
   ]
  },
  {
   "cell_type": "code",
   "execution_count": null,
   "metadata": {},
   "outputs": [
    {
     "data": {
      "text/html": [
       "<div>\n",
       "<style scoped>\n",
       "    .dataframe tbody tr th:only-of-type {\n",
       "        vertical-align: middle;\n",
       "    }\n",
       "\n",
       "    .dataframe tbody tr th {\n",
       "        vertical-align: top;\n",
       "    }\n",
       "\n",
       "    .dataframe thead th {\n",
       "        text-align: right;\n",
       "    }\n",
       "</style>\n",
       "<table border=\"1\" class=\"dataframe\">\n",
       "  <thead>\n",
       "    <tr style=\"text-align: right;\">\n",
       "      <th></th>\n",
       "      <th>app_version</th>\n",
       "      <th>pain</th>\n",
       "      <th>fatigue</th>\n",
       "      <th>therapy_name</th>\n",
       "      <th>condition</th>\n",
       "      <th>leave_session</th>\n",
       "      <th>quality</th>\n",
       "      <th>leave_exercise_pain</th>\n",
       "      <th>leave_exercise_fatigue</th>\n",
       "      <th>leave_exercise_tired</th>\n",
       "      <th>...</th>\n",
       "      <th>number_exercises</th>\n",
       "      <th>number_of_distinct_exercises</th>\n",
       "      <th>exercise_with_most_incorrect</th>\n",
       "      <th>perc_CM</th>\n",
       "      <th>perc_WTE</th>\n",
       "      <th>perc_ITE</th>\n",
       "      <th>perc_GU</th>\n",
       "      <th>perc_OML</th>\n",
       "      <th>perc_WD</th>\n",
       "      <th>perc_WM</th>\n",
       "    </tr>\n",
       "    <tr>\n",
       "      <th>session_group</th>\n",
       "      <th></th>\n",
       "      <th></th>\n",
       "      <th></th>\n",
       "      <th></th>\n",
       "      <th></th>\n",
       "      <th></th>\n",
       "      <th></th>\n",
       "      <th></th>\n",
       "      <th></th>\n",
       "      <th></th>\n",
       "      <th></th>\n",
       "      <th></th>\n",
       "      <th></th>\n",
       "      <th></th>\n",
       "      <th></th>\n",
       "      <th></th>\n",
       "      <th></th>\n",
       "      <th></th>\n",
       "      <th></th>\n",
       "      <th></th>\n",
       "      <th></th>\n",
       "    </tr>\n",
       "  </thead>\n",
       "  <tbody>\n",
       "    <tr>\n",
       "      <th>++73HsBtM9Yjm7cCGQwqxuN/Lrw=</th>\n",
       "      <td>202623131</td>\n",
       "      <td>4.0</td>\n",
       "      <td>4.0</td>\n",
       "      <td>elbow</td>\n",
       "      <td>ulna_fracture</td>\n",
       "      <td></td>\n",
       "      <td>ok</td>\n",
       "      <td>0</td>\n",
       "      <td>0</td>\n",
       "      <td>0</td>\n",
       "      <td>...</td>\n",
       "      <td>12</td>\n",
       "      <td>12</td>\n",
       "      <td>NaN</td>\n",
       "      <td>1.000000</td>\n",
       "      <td>0.000000</td>\n",
       "      <td>0.000000</td>\n",
       "      <td>0.0</td>\n",
       "      <td>0.0</td>\n",
       "      <td>0.0</td>\n",
       "      <td>0.000000</td>\n",
       "    </tr>\n",
       "    <tr>\n",
       "      <th>++DVzL8W7kOsaDaszXjJCgNQaVc=</th>\n",
       "      <td>203051191</td>\n",
       "      <td>4.0</td>\n",
       "      <td>4.0</td>\n",
       "      <td>shoulder</td>\n",
       "      <td>post_surgical_rotator_cuff_reconstruction</td>\n",
       "      <td></td>\n",
       "      <td>ok</td>\n",
       "      <td>0</td>\n",
       "      <td>0</td>\n",
       "      <td>0</td>\n",
       "      <td>...</td>\n",
       "      <td>31</td>\n",
       "      <td>19</td>\n",
       "      <td>shoulder_external_rotation_lying</td>\n",
       "      <td>0.980645</td>\n",
       "      <td>0.003226</td>\n",
       "      <td>0.000000</td>\n",
       "      <td>0.0</td>\n",
       "      <td>0.0</td>\n",
       "      <td>0.0</td>\n",
       "      <td>0.016129</td>\n",
       "    </tr>\n",
       "    <tr>\n",
       "      <th>++KPFJPUlbmglcKGjWydvpRby3Y=</th>\n",
       "      <td>203224171</td>\n",
       "      <td>4.0</td>\n",
       "      <td>2.0</td>\n",
       "      <td>knee</td>\n",
       "      <td>muscle_strain</td>\n",
       "      <td></td>\n",
       "      <td>ok</td>\n",
       "      <td>0</td>\n",
       "      <td>0</td>\n",
       "      <td>0</td>\n",
       "      <td>...</td>\n",
       "      <td>20</td>\n",
       "      <td>10</td>\n",
       "      <td>knee_extension_sitting</td>\n",
       "      <td>0.993421</td>\n",
       "      <td>0.000000</td>\n",
       "      <td>0.000000</td>\n",
       "      <td>0.0</td>\n",
       "      <td>0.0</td>\n",
       "      <td>0.0</td>\n",
       "      <td>0.006579</td>\n",
       "    </tr>\n",
       "    <tr>\n",
       "      <th>++aAbPuW/H9vB8GWf7F/g6MADA0=</th>\n",
       "      <td>202623131</td>\n",
       "      <td>4.0</td>\n",
       "      <td>2.0</td>\n",
       "      <td>knee</td>\n",
       "      <td>knee_osteoarthritis</td>\n",
       "      <td></td>\n",
       "      <td>ok</td>\n",
       "      <td>0</td>\n",
       "      <td>0</td>\n",
       "      <td>0</td>\n",
       "      <td>...</td>\n",
       "      <td>30</td>\n",
       "      <td>17</td>\n",
       "      <td>side_lying_hip_abduction_lying</td>\n",
       "      <td>0.961806</td>\n",
       "      <td>0.003472</td>\n",
       "      <td>0.000000</td>\n",
       "      <td>0.0</td>\n",
       "      <td>0.0</td>\n",
       "      <td>0.0</td>\n",
       "      <td>0.034722</td>\n",
       "    </tr>\n",
       "    <tr>\n",
       "      <th>++oF9AP4AUlaC42jG8q8Zs5n9YM=</th>\n",
       "      <td>202623131</td>\n",
       "      <td>4.0</td>\n",
       "      <td>4.0</td>\n",
       "      <td>ankle</td>\n",
       "      <td>surgical_anklefracture</td>\n",
       "      <td></td>\n",
       "      <td>ok</td>\n",
       "      <td>0</td>\n",
       "      <td>0</td>\n",
       "      <td>0</td>\n",
       "      <td>...</td>\n",
       "      <td>40</td>\n",
       "      <td>20</td>\n",
       "      <td>forward_lunge_standing</td>\n",
       "      <td>0.990291</td>\n",
       "      <td>0.000000</td>\n",
       "      <td>0.000000</td>\n",
       "      <td>0.0</td>\n",
       "      <td>0.0</td>\n",
       "      <td>0.0</td>\n",
       "      <td>0.009709</td>\n",
       "    </tr>\n",
       "    <tr>\n",
       "      <th>...</th>\n",
       "      <td>...</td>\n",
       "      <td>...</td>\n",
       "      <td>...</td>\n",
       "      <td>...</td>\n",
       "      <td>...</td>\n",
       "      <td>...</td>\n",
       "      <td>...</td>\n",
       "      <td>...</td>\n",
       "      <td>...</td>\n",
       "      <td>...</td>\n",
       "      <td>...</td>\n",
       "      <td>...</td>\n",
       "      <td>...</td>\n",
       "      <td>...</td>\n",
       "      <td>...</td>\n",
       "      <td>...</td>\n",
       "      <td>...</td>\n",
       "      <td>...</td>\n",
       "      <td>...</td>\n",
       "      <td>...</td>\n",
       "      <td>...</td>\n",
       "    </tr>\n",
       "    <tr>\n",
       "      <th>zwjVPc60W6qZ/lfSuxcYg92p71o=</th>\n",
       "      <td>203224171</td>\n",
       "      <td>0.0</td>\n",
       "      <td>0.0</td>\n",
       "      <td>shoulder</td>\n",
       "      <td>rotator_cuff_tendinopathy</td>\n",
       "      <td></td>\n",
       "      <td>ok</td>\n",
       "      <td>0</td>\n",
       "      <td>0</td>\n",
       "      <td>0</td>\n",
       "      <td>...</td>\n",
       "      <td>20</td>\n",
       "      <td>10</td>\n",
       "      <td>shoulder_flexion_lying</td>\n",
       "      <td>0.965000</td>\n",
       "      <td>0.000000</td>\n",
       "      <td>0.000000</td>\n",
       "      <td>0.0</td>\n",
       "      <td>0.0</td>\n",
       "      <td>0.0</td>\n",
       "      <td>0.035000</td>\n",
       "    </tr>\n",
       "    <tr>\n",
       "      <th>zwlFvWNyiAxlXIO+ifc95eTh3WU=</th>\n",
       "      <td>203051191</td>\n",
       "      <td>6.0</td>\n",
       "      <td>4.0</td>\n",
       "      <td>shoulder</td>\n",
       "      <td>post_surgical_rotator_cuff_reconstruction</td>\n",
       "      <td></td>\n",
       "      <td>ok</td>\n",
       "      <td>0</td>\n",
       "      <td>0</td>\n",
       "      <td>0</td>\n",
       "      <td>...</td>\n",
       "      <td>15</td>\n",
       "      <td>9</td>\n",
       "      <td>shoulder_external_rotation_lying</td>\n",
       "      <td>0.972789</td>\n",
       "      <td>0.000000</td>\n",
       "      <td>0.000000</td>\n",
       "      <td>0.0</td>\n",
       "      <td>0.0</td>\n",
       "      <td>0.0</td>\n",
       "      <td>0.027211</td>\n",
       "    </tr>\n",
       "    <tr>\n",
       "      <th>zxQ4m4xxrLc3EFK047X8yPiwX5Y=</th>\n",
       "      <td>203224171</td>\n",
       "      <td>4.0</td>\n",
       "      <td>2.0</td>\n",
       "      <td>elbow</td>\n",
       "      <td>humerus_fracture</td>\n",
       "      <td></td>\n",
       "      <td>ok</td>\n",
       "      <td>0</td>\n",
       "      <td>0</td>\n",
       "      <td>0</td>\n",
       "      <td>...</td>\n",
       "      <td>22</td>\n",
       "      <td>11</td>\n",
       "      <td>scapular_plane_elevation_upright</td>\n",
       "      <td>0.985294</td>\n",
       "      <td>0.000000</td>\n",
       "      <td>0.000000</td>\n",
       "      <td>0.0</td>\n",
       "      <td>0.0</td>\n",
       "      <td>0.0</td>\n",
       "      <td>0.014706</td>\n",
       "    </tr>\n",
       "    <tr>\n",
       "      <th>zz0MP+s4EVb8T7MdoqBmbL9HP+0=</th>\n",
       "      <td>203051191</td>\n",
       "      <td>0.0</td>\n",
       "      <td>2.0</td>\n",
       "      <td>ankle</td>\n",
       "      <td>muscle_strain</td>\n",
       "      <td></td>\n",
       "      <td>ok</td>\n",
       "      <td>0</td>\n",
       "      <td>0</td>\n",
       "      <td>0</td>\n",
       "      <td>...</td>\n",
       "      <td>20</td>\n",
       "      <td>11</td>\n",
       "      <td>wall_sit_standing</td>\n",
       "      <td>0.979167</td>\n",
       "      <td>0.000000</td>\n",
       "      <td>0.000000</td>\n",
       "      <td>0.0</td>\n",
       "      <td>0.0</td>\n",
       "      <td>0.0</td>\n",
       "      <td>0.020833</td>\n",
       "    </tr>\n",
       "    <tr>\n",
       "      <th>zztmRv02lbCAZAagZshZ4kLMBh0=</th>\n",
       "      <td>203224171</td>\n",
       "      <td>2.0</td>\n",
       "      <td>2.0</td>\n",
       "      <td>shoulder</td>\n",
       "      <td>post_surgical_rotator_cuff_reconstruction</td>\n",
       "      <td></td>\n",
       "      <td>ok</td>\n",
       "      <td>0</td>\n",
       "      <td>0</td>\n",
       "      <td>0</td>\n",
       "      <td>...</td>\n",
       "      <td>28</td>\n",
       "      <td>13</td>\n",
       "      <td>shoulder_internal_rotation_in_abduction_lying</td>\n",
       "      <td>0.768987</td>\n",
       "      <td>0.006329</td>\n",
       "      <td>0.148734</td>\n",
       "      <td>0.0</td>\n",
       "      <td>0.0</td>\n",
       "      <td>0.0</td>\n",
       "      <td>0.075949</td>\n",
       "    </tr>\n",
       "  </tbody>\n",
       "</table>\n",
       "<p>7115 rows × 32 columns</p>\n",
       "</div>"
      ],
      "text/plain": [
       "                              app_version  pain  fatigue therapy_name  \\\n",
       "session_group                                                           \n",
       "++73HsBtM9Yjm7cCGQwqxuN/Lrw=    202623131   4.0      4.0        elbow   \n",
       "++DVzL8W7kOsaDaszXjJCgNQaVc=    203051191   4.0      4.0     shoulder   \n",
       "++KPFJPUlbmglcKGjWydvpRby3Y=    203224171   4.0      2.0         knee   \n",
       "++aAbPuW/H9vB8GWf7F/g6MADA0=    202623131   4.0      2.0         knee   \n",
       "++oF9AP4AUlaC42jG8q8Zs5n9YM=    202623131   4.0      4.0        ankle   \n",
       "...                                   ...   ...      ...          ...   \n",
       "zwjVPc60W6qZ/lfSuxcYg92p71o=    203224171   0.0      0.0     shoulder   \n",
       "zwlFvWNyiAxlXIO+ifc95eTh3WU=    203051191   6.0      4.0     shoulder   \n",
       "zxQ4m4xxrLc3EFK047X8yPiwX5Y=    203224171   4.0      2.0        elbow   \n",
       "zz0MP+s4EVb8T7MdoqBmbL9HP+0=    203051191   0.0      2.0        ankle   \n",
       "zztmRv02lbCAZAagZshZ4kLMBh0=    203224171   2.0      2.0     shoulder   \n",
       "\n",
       "                                                              condition  \\\n",
       "session_group                                                             \n",
       "++73HsBtM9Yjm7cCGQwqxuN/Lrw=                              ulna_fracture   \n",
       "++DVzL8W7kOsaDaszXjJCgNQaVc=  post_surgical_rotator_cuff_reconstruction   \n",
       "++KPFJPUlbmglcKGjWydvpRby3Y=                              muscle_strain   \n",
       "++aAbPuW/H9vB8GWf7F/g6MADA0=                        knee_osteoarthritis   \n",
       "++oF9AP4AUlaC42jG8q8Zs5n9YM=                     surgical_anklefracture   \n",
       "...                                                                 ...   \n",
       "zwjVPc60W6qZ/lfSuxcYg92p71o=                  rotator_cuff_tendinopathy   \n",
       "zwlFvWNyiAxlXIO+ifc95eTh3WU=  post_surgical_rotator_cuff_reconstruction   \n",
       "zxQ4m4xxrLc3EFK047X8yPiwX5Y=                           humerus_fracture   \n",
       "zz0MP+s4EVb8T7MdoqBmbL9HP+0=                              muscle_strain   \n",
       "zztmRv02lbCAZAagZshZ4kLMBh0=  post_surgical_rotator_cuff_reconstruction   \n",
       "\n",
       "                             leave_session quality  leave_exercise_pain  \\\n",
       "session_group                                                             \n",
       "++73HsBtM9Yjm7cCGQwqxuN/Lrw=                    ok                    0   \n",
       "++DVzL8W7kOsaDaszXjJCgNQaVc=                    ok                    0   \n",
       "++KPFJPUlbmglcKGjWydvpRby3Y=                    ok                    0   \n",
       "++aAbPuW/H9vB8GWf7F/g6MADA0=                    ok                    0   \n",
       "++oF9AP4AUlaC42jG8q8Zs5n9YM=                    ok                    0   \n",
       "...                                    ...     ...                  ...   \n",
       "zwjVPc60W6qZ/lfSuxcYg92p71o=                    ok                    0   \n",
       "zwlFvWNyiAxlXIO+ifc95eTh3WU=                    ok                    0   \n",
       "zxQ4m4xxrLc3EFK047X8yPiwX5Y=                    ok                    0   \n",
       "zz0MP+s4EVb8T7MdoqBmbL9HP+0=                    ok                    0   \n",
       "zztmRv02lbCAZAagZshZ4kLMBh0=                    ok                    0   \n",
       "\n",
       "                              leave_exercise_fatigue  leave_exercise_tired  \\\n",
       "session_group                                                                \n",
       "++73HsBtM9Yjm7cCGQwqxuN/Lrw=                       0                     0   \n",
       "++DVzL8W7kOsaDaszXjJCgNQaVc=                       0                     0   \n",
       "++KPFJPUlbmglcKGjWydvpRby3Y=                       0                     0   \n",
       "++aAbPuW/H9vB8GWf7F/g6MADA0=                       0                     0   \n",
       "++oF9AP4AUlaC42jG8q8Zs5n9YM=                       0                     0   \n",
       "...                                              ...                   ...   \n",
       "zwjVPc60W6qZ/lfSuxcYg92p71o=                       0                     0   \n",
       "zwlFvWNyiAxlXIO+ifc95eTh3WU=                       0                     0   \n",
       "zxQ4m4xxrLc3EFK047X8yPiwX5Y=                       0                     0   \n",
       "zz0MP+s4EVb8T7MdoqBmbL9HP+0=                       0                     0   \n",
       "zztmRv02lbCAZAagZshZ4kLMBh0=                       0                     0   \n",
       "\n",
       "                              ...  number_exercises  \\\n",
       "session_group                 ...                     \n",
       "++73HsBtM9Yjm7cCGQwqxuN/Lrw=  ...                12   \n",
       "++DVzL8W7kOsaDaszXjJCgNQaVc=  ...                31   \n",
       "++KPFJPUlbmglcKGjWydvpRby3Y=  ...                20   \n",
       "++aAbPuW/H9vB8GWf7F/g6MADA0=  ...                30   \n",
       "++oF9AP4AUlaC42jG8q8Zs5n9YM=  ...                40   \n",
       "...                           ...               ...   \n",
       "zwjVPc60W6qZ/lfSuxcYg92p71o=  ...                20   \n",
       "zwlFvWNyiAxlXIO+ifc95eTh3WU=  ...                15   \n",
       "zxQ4m4xxrLc3EFK047X8yPiwX5Y=  ...                22   \n",
       "zz0MP+s4EVb8T7MdoqBmbL9HP+0=  ...                20   \n",
       "zztmRv02lbCAZAagZshZ4kLMBh0=  ...                28   \n",
       "\n",
       "                              number_of_distinct_exercises  \\\n",
       "session_group                                                \n",
       "++73HsBtM9Yjm7cCGQwqxuN/Lrw=                            12   \n",
       "++DVzL8W7kOsaDaszXjJCgNQaVc=                            19   \n",
       "++KPFJPUlbmglcKGjWydvpRby3Y=                            10   \n",
       "++aAbPuW/H9vB8GWf7F/g6MADA0=                            17   \n",
       "++oF9AP4AUlaC42jG8q8Zs5n9YM=                            20   \n",
       "...                                                    ...   \n",
       "zwjVPc60W6qZ/lfSuxcYg92p71o=                            10   \n",
       "zwlFvWNyiAxlXIO+ifc95eTh3WU=                             9   \n",
       "zxQ4m4xxrLc3EFK047X8yPiwX5Y=                            11   \n",
       "zz0MP+s4EVb8T7MdoqBmbL9HP+0=                            11   \n",
       "zztmRv02lbCAZAagZshZ4kLMBh0=                            13   \n",
       "\n",
       "                                               exercise_with_most_incorrect  \\\n",
       "session_group                                                                 \n",
       "++73HsBtM9Yjm7cCGQwqxuN/Lrw=                                            NaN   \n",
       "++DVzL8W7kOsaDaszXjJCgNQaVc=               shoulder_external_rotation_lying   \n",
       "++KPFJPUlbmglcKGjWydvpRby3Y=                         knee_extension_sitting   \n",
       "++aAbPuW/H9vB8GWf7F/g6MADA0=                 side_lying_hip_abduction_lying   \n",
       "++oF9AP4AUlaC42jG8q8Zs5n9YM=                         forward_lunge_standing   \n",
       "...                                                                     ...   \n",
       "zwjVPc60W6qZ/lfSuxcYg92p71o=                         shoulder_flexion_lying   \n",
       "zwlFvWNyiAxlXIO+ifc95eTh3WU=               shoulder_external_rotation_lying   \n",
       "zxQ4m4xxrLc3EFK047X8yPiwX5Y=               scapular_plane_elevation_upright   \n",
       "zz0MP+s4EVb8T7MdoqBmbL9HP+0=                              wall_sit_standing   \n",
       "zztmRv02lbCAZAagZshZ4kLMBh0=  shoulder_internal_rotation_in_abduction_lying   \n",
       "\n",
       "                               perc_CM  perc_WTE  perc_ITE  perc_GU  perc_OML  \\\n",
       "session_group                                                                   \n",
       "++73HsBtM9Yjm7cCGQwqxuN/Lrw=  1.000000  0.000000  0.000000      0.0       0.0   \n",
       "++DVzL8W7kOsaDaszXjJCgNQaVc=  0.980645  0.003226  0.000000      0.0       0.0   \n",
       "++KPFJPUlbmglcKGjWydvpRby3Y=  0.993421  0.000000  0.000000      0.0       0.0   \n",
       "++aAbPuW/H9vB8GWf7F/g6MADA0=  0.961806  0.003472  0.000000      0.0       0.0   \n",
       "++oF9AP4AUlaC42jG8q8Zs5n9YM=  0.990291  0.000000  0.000000      0.0       0.0   \n",
       "...                                ...       ...       ...      ...       ...   \n",
       "zwjVPc60W6qZ/lfSuxcYg92p71o=  0.965000  0.000000  0.000000      0.0       0.0   \n",
       "zwlFvWNyiAxlXIO+ifc95eTh3WU=  0.972789  0.000000  0.000000      0.0       0.0   \n",
       "zxQ4m4xxrLc3EFK047X8yPiwX5Y=  0.985294  0.000000  0.000000      0.0       0.0   \n",
       "zz0MP+s4EVb8T7MdoqBmbL9HP+0=  0.979167  0.000000  0.000000      0.0       0.0   \n",
       "zztmRv02lbCAZAagZshZ4kLMBh0=  0.768987  0.006329  0.148734      0.0       0.0   \n",
       "\n",
       "                              perc_WD   perc_WM  \n",
       "session_group                                    \n",
       "++73HsBtM9Yjm7cCGQwqxuN/Lrw=      0.0  0.000000  \n",
       "++DVzL8W7kOsaDaszXjJCgNQaVc=      0.0  0.016129  \n",
       "++KPFJPUlbmglcKGjWydvpRby3Y=      0.0  0.006579  \n",
       "++aAbPuW/H9vB8GWf7F/g6MADA0=      0.0  0.034722  \n",
       "++oF9AP4AUlaC42jG8q8Zs5n9YM=      0.0  0.009709  \n",
       "...                               ...       ...  \n",
       "zwjVPc60W6qZ/lfSuxcYg92p71o=      0.0  0.035000  \n",
       "zwlFvWNyiAxlXIO+ifc95eTh3WU=      0.0  0.027211  \n",
       "zxQ4m4xxrLc3EFK047X8yPiwX5Y=      0.0  0.014706  \n",
       "zz0MP+s4EVb8T7MdoqBmbL9HP+0=      0.0  0.020833  \n",
       "zztmRv02lbCAZAagZshZ4kLMBh0=      0.0  0.075949  \n",
       "\n",
       "[7115 rows x 32 columns]"
      ]
     },
     "execution_count": 83,
     "metadata": {},
     "output_type": "execute_result"
    }
   ],
   "source": [
    "data_session_group\n"
   ]
  },
  {
   "cell_type": "code",
   "execution_count": null,
   "metadata": {},
   "outputs": [
    {
     "name": "stdout",
     "output_type": "stream",
     "text": [
      "44\n"
     ]
    }
   ],
   "source": [
    "value = data_session_group.loc['gIyIJcoEI7hjNCa3tKrr3vgu71k=']['number_exercises']\n",
    "print(value)"
   ]
  },
  {
   "cell_type": "code",
   "execution_count": null,
   "metadata": {},
   "outputs": [
    {
     "name": "stdout",
     "output_type": "stream",
     "text": [
      "0.15853658536585366\n"
     ]
    }
   ],
   "source": [
    "# This is the wrong value\n",
    "value = data_session_group.loc['DkeUyrOB1Gbh/uOpHeAlV7GuE50=']['perc_WD']\n",
    "print(value)"
   ]
  },
  {
   "cell_type": "code",
   "execution_count": null,
   "metadata": {},
   "outputs": [
    {
     "name": "stdout",
     "output_type": "stream",
     "text": [
      "0.9722222222222222\n"
     ]
    }
   ],
   "source": [
    "# This is the right value\n",
    "value = data_session_group.loc['mqQ5qD03vZuVlYYiMY25zRNZQ5U=']['perc_CM']\n",
    "print(value)"
   ]
  },
  {
   "cell_type": "code",
   "execution_count": null,
   "metadata": {},
   "outputs": [
    {
     "name": "stdout",
     "output_type": "stream",
     "text": [
      "Empty DataFrame\n",
      "Columns: [CM, prescribed_repeats]\n",
      "Index: []\n"
     ]
    }
   ],
   "source": [
    "\n",
    "print(data[data['session_group'] == 'JzctFywL1/Y55EvI93TC2jird9k='][['CM', 'prescribed_repeats']])\n"
   ]
  },
  {
   "cell_type": "code",
   "execution_count": null,
   "metadata": {},
   "outputs": [
    {
     "data": {
      "text/plain": [
       "Index(['app_version', 'pain', 'fatigue', 'therapy_name', 'condition',\n",
       "       'leave_session', 'quality', 'leave_exercise_pain',\n",
       "       'leave_exercise_fatigue', 'leave_exercise_tired',\n",
       "       'leave_exercise_system_problem', 'leave_exercise_other',\n",
       "       'prescribed_repeats', 'training_time', 'CM', 'WTE', 'ITE', 'GU', 'OML',\n",
       "       'WD', 'WM', 'total_repetitions_performed', 'number_exercises',\n",
       "       'number_of_distinct_exercises', 'exercise_with_most_incorrect',\n",
       "       'perc_CM', 'perc_WTE', 'perc_ITE', 'perc_GU', 'perc_OML', 'perc_WD',\n",
       "       'perc_WM'],\n",
       "      dtype='object')"
      ]
     },
     "execution_count": 88,
     "metadata": {},
     "output_type": "execute_result"
    }
   ],
   "source": [
    "data_session_group.columns"
   ]
  },
  {
   "cell_type": "code",
   "execution_count": null,
   "metadata": {},
   "outputs": [
    {
     "name": "stdout",
     "output_type": "stream",
     "text": [
      "leave_exercise_pain\n",
      "0     6872\n",
      "1      127\n",
      "2       76\n",
      "3       16\n",
      "4       15\n",
      "6        3\n",
      "5        3\n",
      "8        2\n",
      "11       1\n",
      "Name: count, dtype: int64\n"
     ]
    }
   ],
   "source": [
    "value_counts_pain = data_session_group['leave_exercise_pain'].value_counts()\n",
    "print(value_counts_pain)\n",
    "\n"
   ]
  },
  {
   "cell_type": "code",
   "execution_count": null,
   "metadata": {},
   "outputs": [
    {
     "name": "stdout",
     "output_type": "stream",
     "text": [
      "leave_exercise_fatigue\n",
      "0    7115\n",
      "Name: count, dtype: int64\n"
     ]
    }
   ],
   "source": [
    "value_counts_fatigue = data_session_group['leave_exercise_fatigue'].value_counts()\n",
    "print(value_counts_fatigue)"
   ]
  },
  {
   "cell_type": "code",
   "execution_count": null,
   "metadata": {},
   "outputs": [
    {
     "name": "stdout",
     "output_type": "stream",
     "text": [
      "leave_exercise_tired\n",
      "0     7059\n",
      "1       34\n",
      "2       13\n",
      "3        3\n",
      "9        1\n",
      "5        1\n",
      "10       1\n",
      "4        1\n",
      "6        1\n",
      "7        1\n",
      "Name: count, dtype: int64\n"
     ]
    }
   ],
   "source": [
    "value_counts_tired = data_session_group['leave_exercise_tired'].value_counts()\n",
    "print(value_counts_tired)"
   ]
  },
  {
   "cell_type": "code",
   "execution_count": null,
   "metadata": {},
   "outputs": [
    {
     "name": "stdout",
     "output_type": "stream",
     "text": [
      "quality\n",
      "ok     6952\n",
      "nok     163\n",
      "Name: count, dtype: int64\n"
     ]
    }
   ],
   "source": [
    "value_counts_quality = data_session_group['quality'].value_counts()\n",
    "print(value_counts_quality)"
   ]
  },
  {
   "cell_type": "code",
   "execution_count": null,
   "metadata": {},
   "outputs": [
    {
     "name": "stdout",
     "output_type": "stream",
     "text": [
      "leave_exercise_system_problem\n",
      "0     6955\n",
      "1       96\n",
      "2       35\n",
      "3       11\n",
      "4        6\n",
      "5        5\n",
      "18       3\n",
      "9        2\n",
      "8        1\n",
      "6        1\n",
      "Name: count, dtype: int64\n"
     ]
    }
   ],
   "source": [
    "value_counts_leave_exercise_system_problem = data_session_group['leave_exercise_system_problem'].value_counts()\n",
    "print(value_counts_leave_exercise_system_problem)"
   ]
  },
  {
   "cell_type": "code",
   "execution_count": null,
   "metadata": {},
   "outputs": [
    {
     "name": "stdout",
     "output_type": "stream",
     "text": [
      "prescribed_repeats\n",
      "200    352\n",
      "180    196\n",
      "144    172\n",
      "240    155\n",
      "260    151\n",
      "      ... \n",
      "26       1\n",
      "86       1\n",
      "211      1\n",
      "67       1\n",
      "435      1\n",
      "Name: count, Length: 309, dtype: int64\n"
     ]
    }
   ],
   "source": [
    "value_counts_prescribed_repeats = data_session_group['prescribed_repeats'].value_counts()\n",
    "print(value_counts_prescribed_repeats)"
   ]
  },
  {
   "cell_type": "code",
   "execution_count": null,
   "metadata": {},
   "outputs": [],
   "source": [
    "# Deleting accessorial series from the dataframe\n",
    "data_session_group.drop('CM', axis=1, inplace=True)\n",
    "data_session_group.drop('WTE', axis=1, inplace=True)\n",
    "data_session_group.drop('ITE', axis=1, inplace=True)\n",
    "data_session_group.drop('GU', axis=1, inplace=True)\n",
    "data_session_group.drop('OML', axis=1, inplace=True)\n",
    "data_session_group.drop('WD', axis=1, inplace=True)\n",
    "data_session_group.drop('WM', axis=1, inplace=True)\n",
    "data_session_group.drop('total_repetitions_performed', axis=1, inplace=True)"
   ]
  },
  {
   "cell_type": "code",
   "execution_count": null,
   "metadata": {},
   "outputs": [],
   "source": [
    "# Reorder the columns to match the benchmark columns\n",
    "benchmark = pd.read_csv('./Data/session_results_labelled.csv')\n",
    "data_session_group = data_session_group.reindex(columns=benchmark.columns)"
   ]
  },
  {
   "cell_type": "code",
   "execution_count": null,
   "metadata": {},
   "outputs": [],
   "source": [
    "# Assuming your DataFrame is named 'current_dataframe' and you want to save it to a file named 'output.csv'\n",
    "data_session_group.to_csv('./Data/result.csv', index=False)"
   ]
  },
  {
   "cell_type": "code",
   "execution_count": null,
   "metadata": {},
   "outputs": [
    {
     "name": "stdout",
     "output_type": "stream",
     "text": [
      "Total matches: 177875\n",
      "Total differences: 0\n",
      "Total missing elements: 0\n",
      "Missing columns: []\n",
      "\n"
     ]
    }
   ],
   "source": [
    "import pytest\n",
    "\n",
    "def test_dataframe_comparison():\n",
    "    # Read the first CSV file into a DataFrame\n",
    "    df1 = pd.read_csv('./Data/result.csv')\n",
    "\n",
    "    # Read the second CSV file into another DataFrame\n",
    "    df2 = pd.read_csv('./Data/session_results_labelled.csv')\n",
    "\n",
    "    # Get the list of column names (series) in both DataFrames\n",
    "    columns_df1 = df1.columns\n",
    "    columns_df2 = df2.columns\n",
    "\n",
    "    # Track overall statistics\n",
    "    total_matches = 0\n",
    "    total_differences = 0\n",
    "    total_missing = 0\n",
    "    missing_columns = []\n",
    "\n",
    "    # Result string to store test results\n",
    "    result = \"\"\n",
    "\n",
    "    # Iterate over each column in the first DataFrame\n",
    "    for column in columns_df1:\n",
    "        # Check if the column exists in the second DataFrame\n",
    "        if column in columns_df2:\n",
    "            # Get the series from both DataFrames\n",
    "            series_df1 = df1[column]\n",
    "            series_df2 = df2[column]\n",
    "\n",
    "            # Count matching elements\n",
    "            matches = series_df1.isin(series_df2).sum()\n",
    "            total_matches += matches\n",
    "\n",
    "            # Count differences\n",
    "            differences = series_df1[~series_df1.isin(series_df2)]\n",
    "            total_differences += len(differences)\n",
    "\n",
    "            # Assert that there are no differences\n",
    "            assert len(differences) == 0, f\"Differences found in '{column}' series from first DataFrame:\\n{differences}\"\n",
    "        else:\n",
    "            total_missing += 1\n",
    "            missing_columns.append(column)\n",
    "\n",
    "    # Output overall statistics\n",
    "    result += f\"Total matches: {total_matches}\\n\"\n",
    "    result += f\"Total differences: {total_differences}\\n\"\n",
    "    result += f\"Total missing elements: {total_missing}\\n\"\n",
    "    result += f\"Missing columns: {missing_columns}\\n\"\n",
    "\n",
    "    return result\n",
    "\n",
    "# Run the test and print the results\n",
    "print(test_dataframe_comparison())\n"
   ]
  },
  {
   "cell_type": "code",
   "execution_count": null,
   "metadata": {},
   "outputs": [],
   "source": [
    "def test_compare_csv_files():\n",
    "    # Load your specific csv files into pandas DataFrames\n",
    "    df1 = pd.read_csv('./Data/result.csv')\n",
    "    df2 = pd.read_csv('./Data/session_results_labelled.csv')\n",
    "\n",
    "    # Check if both dataframes have the same number of columns\n",
    "    assert len(df1.columns) == len(df2.columns), \"The CSV files have a different number of columns\"\n",
    "\n",
    "    # If they have the same number of columns, check if they have the same column names\n",
    "    if len(df1.columns) == len(df2.columns):\n",
    "        assert (df1.columns == df2.columns).all(), \"The CSV files have different column names\"\n",
    "\n",
    "    # Check if both dataframes have the same values\n",
    "    try:\n",
    "        pd.testing.assert_frame_equal(df1, df2, check_dtype=False)\n",
    "    except AssertionError as e:\n",
    "        print(\"The CSV files have different values:\")\n",
    "        print(e)\n",
    "        raise\n",
    "    else:\n",
    "        print(\"The CSV files have the same columns and values.\")\n"
   ]
  },
  {
   "cell_type": "code",
   "execution_count": null,
   "metadata": {},
   "outputs": [
    {
     "name": "stdout",
     "output_type": "stream",
     "text": [
      "session_group                        0\n",
      "exercise_name                        0\n",
      "exercise_order                       0\n",
      "session_exercise_result_id           0\n",
      "prescribed_repeats                   0\n",
      "training_time                        0\n",
      "app_version                          0\n",
      "pain                                 0\n",
      "fatigue                              0\n",
      "leave_session                        0\n",
      "leave_exercise                       0\n",
      "exercise_side                        0\n",
      "therapy_name                         0\n",
      "condition                            0\n",
      "CM                                   0\n",
      "WTE                                  0\n",
      "ITE                                  0\n",
      "GU                                   0\n",
      "OML                                  0\n",
      "WD                                   0\n",
      "WM                                   0\n",
      "quality                              0\n",
      "leave_exercise_pain                  0\n",
      "leave_exercise_fatigue               0\n",
      "leave_exercise_tired                 0\n",
      "leave_exercise_system_problem        0\n",
      "leave_exercise_other                 0\n",
      "total_repetitions_performed          0\n",
      "number_exercises                     0\n",
      "exercise_name_count                  0\n",
      "total_incorrect_moves_in_exercise    0\n",
      "dtype: int64\n"
     ]
    }
   ],
   "source": [
    "missing_values = data.isna().sum()\n",
    "print(missing_values)"
   ]
  },
  {
   "cell_type": "code",
   "execution_count": null,
   "metadata": {},
   "outputs": [
    {
     "name": "stdout",
     "output_type": "stream",
     "text": [
      "app_version                        0\n",
      "pain                               0\n",
      "fatigue                            0\n",
      "therapy_name                       0\n",
      "condition                          0\n",
      "leave_session                      0\n",
      "quality                            0\n",
      "leave_exercise_pain                0\n",
      "leave_exercise_fatigue             0\n",
      "leave_exercise_tired               0\n",
      "leave_exercise_system_problem      0\n",
      "leave_exercise_other               0\n",
      "prescribed_repeats                 0\n",
      "training_time                      0\n",
      "number_exercises                   0\n",
      "number_of_distinct_exercises       0\n",
      "exercise_with_most_incorrect     734\n",
      "perc_CM                            0\n",
      "perc_WTE                           0\n",
      "perc_ITE                           0\n",
      "perc_GU                            0\n",
      "perc_OML                           0\n",
      "perc_WD                            0\n",
      "perc_WM                            0\n",
      "dtype: int64\n"
     ]
    }
   ],
   "source": [
    "missing_values = data_session_group.isna().sum()\n",
    "print(missing_values)"
   ]
  },
  {
   "cell_type": "code",
   "execution_count": null,
   "metadata": {},
   "outputs": [
    {
     "data": {
      "text/plain": [
       "26"
      ]
     },
     "execution_count": 101,
     "metadata": {},
     "output_type": "execute_result"
    }
   ],
   "source": [
    "len(benchmark.columns)"
   ]
  },
  {
   "cell_type": "code",
   "execution_count": null,
   "metadata": {},
   "outputs": [
    {
     "data": {
      "text/plain": [
       "app_version                        int64\n",
       "session_group                     object\n",
       "therapy_name                      object\n",
       "condition                         object\n",
       "pain                             float64\n",
       "fatigue                          float64\n",
       "quality                           object\n",
       "leave_session                     object\n",
       "leave_exercise_pain                int64\n",
       "leave_exercise_fatigue             int64\n",
       "leave_exercise_other               int64\n",
       "leave_exercise_tired               int64\n",
       "leave_exercise_system_problem      int64\n",
       "prescribed_repeats                 int64\n",
       "training_time                      int64\n",
       "perc_CM                          float64\n",
       "perc_WTE                         float64\n",
       "perc_ITE                         float64\n",
       "perc_GU                          float64\n",
       "perc_OML                         float64\n",
       "perc_WD                          float64\n",
       "perc_WM                          float64\n",
       "number_exercises                   int64\n",
       "number_of_distinct_exercises       int64\n",
       "exercise_with_most_incorrect      object\n",
       "first_exercise_skipped            object\n",
       "dtype: object"
      ]
     },
     "execution_count": 102,
     "metadata": {},
     "output_type": "execute_result"
    }
   ],
   "source": [
    "benchmark.dtypes"
   ]
  },
  {
   "cell_type": "code",
   "execution_count": null,
   "metadata": {},
   "outputs": [
    {
     "data": {
      "text/plain": [
       "app_version                         0\n",
       "session_group                       0\n",
       "therapy_name                        0\n",
       "condition                           0\n",
       "pain                              132\n",
       "fatigue                           133\n",
       "quality                             0\n",
       "leave_session                    6965\n",
       "leave_exercise_pain                 0\n",
       "leave_exercise_fatigue              0\n",
       "leave_exercise_other                0\n",
       "leave_exercise_tired                0\n",
       "leave_exercise_system_problem       0\n",
       "prescribed_repeats                  0\n",
       "training_time                       0\n",
       "perc_CM                            40\n",
       "perc_WTE                           40\n",
       "perc_ITE                           40\n",
       "perc_GU                            40\n",
       "perc_OML                           40\n",
       "perc_WD                            40\n",
       "perc_WM                            40\n",
       "number_exercises                    0\n",
       "number_of_distinct_exercises        0\n",
       "exercise_with_most_incorrect      734\n",
       "first_exercise_skipped           6597\n",
       "dtype: int64"
      ]
     },
     "execution_count": 103,
     "metadata": {},
     "output_type": "execute_result"
    }
   ],
   "source": [
    "benchmark.isna().sum()"
   ]
  },
  {
   "cell_type": "code",
   "execution_count": null,
   "metadata": {},
   "outputs": [],
   "source": [
    "# After calculating 'total_incorrect_moves_in_exercise' for each exercise\n",
    "agg_data = data.groupby(['session_group', 'exercise_name'], as_index=False)['total_incorrect_moves_in_exercise'].sum()\n",
    "agg_data['max_incorrect'] = agg_data.groupby('session_group')['total_incorrect_moves_in_exercise'].transform('max')\n",
    "agg_data_most_incorrect = agg_data[agg_data['total_incorrect_moves_in_exercise'] == agg_data['max_incorrect']]\n",
    "\n",
    "# Here, we ensure that if there are multiple exercises with the same max incorrect moves, we select the first one.\n",
    "# This is done by dropping duplicates based on 'session_group' while keeping the first occurrence.\n",
    "agg_data_most_incorrect = agg_data_most_incorrect.drop_duplicates(subset=['session_group'], keep='first').reset_index(drop=True)\n",
    "agg_data_most_incorrect.rename(columns={'exercise_name': 'exercise_with_most_incorrect'}, inplace=True)\n",
    "\n",
    "# Ensure the merging logic is correctly applied to your main dataset\n",
    "data_session_group = data_session_group.merge(agg_data_most_incorrect[['session_group', 'exercise_with_most_incorrect']], on='session_group', how='left')\n"
   ]
  },
  {
   "cell_type": "code",
   "execution_count": null,
   "metadata": {},
   "outputs": [],
   "source": [
    "def get_most_incorrect_exercise(group):\n",
    "    # This function will be applied to each group to find the exercise with the most incorrect moves\n",
    "    max_incorrect = group['total_incorrect_moves_in_exercise'].max()\n",
    "    most_incorrect_exercises = group[group['total_incorrect_moves_in_exercise'] == max_incorrect]\n",
    "    return most_incorrect_exercises.iloc[0]['exercise_name']  # Return the first exercise name in case of ties\n",
    "\n",
    "# Apply this function after grouping by 'session_group' to identify the exercise with the most incorrect movements\n",
    "agg_data = data.groupby(['session_group', 'exercise_name'], as_index=False).agg({'total_incorrect_moves_in_exercise': 'sum'})\n",
    "most_incorrect_exercise_per_group = agg_data.groupby('session_group').apply(get_most_incorrect_exercise).reset_index(name='exercise_with_most_incorrect')\n",
    "\n",
    "# Now, merge this information back into your main dataset\n",
    "data_session_group = data_session_group.merge(most_incorrect_exercise_per_group, on='session_group', how='left')\n"
   ]
  },
  {
   "cell_type": "code",
   "execution_count": null,
   "metadata": {},
   "outputs": [],
   "source": [
    "# exer_res_labelled_transformed = erl_by_session_group.agg(\n",
    "#         app_version=(\"app_version\", \"first\"),\n",
    "#         pain=(\"pain\", \"first\"),\n",
    "#         fatigue=(\"fatigue\", \"first\"),\n",
    "#         therapy_name=(\"therapy_name\", \"first\"),\n",
    "#         condition=(\"condition\", \"first\"),\n",
    "#         leave_session=(\"leave_session\", \"first\"),\n",
    "#         quality=(\"quality\", \"first\"),\n",
    "#         leave_exercise_pain=(\"leave_exercise\", lambda x: sum(x == \"pain\")),\n",
    "#         leave_exercise_fatigue=(\"leave_exercise\", lambda x: sum(x == \"fatigue\")),\n",
    "#         leave_exercise_other=(\"leave_exercise\", lambda x: sum(x == \"other\")),\n",
    "#         leave_exercise_tired=(\"leave_exercise\", lambda x: sum(x == \"tired\")),\n",
    "#         leave_exercise_system_problem=(\n",
    "#             \"leave_exercise\",\n",
    "#             lambda x: sum(x == \"system_problem\"),\n",
    "#         ),\n",
    "#         prescribed_repeats=(\"prescribed_repeats\", \"sum\"),\n",
    "#         training_time=(\"training_time\", \"sum\"),\n",
    "#         number_exercises=(\"exercise_name\", \"count\"),\n",
    "#         number_of_distinct_exercises=(\"exercise_name\", \"nunique\"),\n",
    "#         CM=(\"CM\", \"sum\"),\n",
    "#         WM=(\"WM\", \"sum\"),\n",
    "#         ITE=(\"ITE\", \"sum\"),\n",
    "#         WTE=(\"WTE\", \"sum\"),\n",
    "#         GU=(\"GU\", \"sum\"),\n",
    "#         OML=(\"OML\", \"sum\"),\n",
    "#         WD=(\"WD\", \"sum\"),\n",
    "#         exercise_with_most_incorrect=(\n",
    "#             \"WM\",\n",
    "#             lambda x: exer_res_labelled.loc[\n",
    "#                 x.dropna(axis=0, how=\"all\").idxmax(),\n",
    "#                 \"exercise_name\",\n",
    "#             ]\n",
    "#             if x.max() > 0\n",
    "#             else np.nan,\n",
    "#         ),\n",
    "#         first_exercise_skipped=(\n",
    "#             \"leave_exercise\",\n",
    "#             lambda x: exer_res_labelled.loc[x.first_valid_index(), \"exercise_name\"]\n",
    "#             if x.any()\n",
    "#             else np.nan,\n",
    "#         ),\n",
    "#     )\n",
    "#     exer_res_labelled_transformed[\"perc_CM\"] = (\n",
    "#         exer_res_labelled_transformed.CM\n",
    "#         / exer_res_labelled_transformed.prescribed_repeats\n",
    "#     )\n",
    "#     exer_res_labelled_transformed[\"perc_WM\"] = (\n",
    "#         exer_res_labelled_transformed.WM\n",
    "#         / exer_res_labelled_transformed.prescribed_repeats\n",
    "#     )\n",
    "#     exer_res_labelled_transformed[\"perc_ITE\"] = (\n",
    "#         exer_res_labelled_transformed.ITE\n",
    "#         / exer_res_labelled_transformed.prescribed_repeats\n",
    "#     )\n",
    "#     exer_res_labelled_transformed[\"perc_WTE\"] = (\n",
    "#         exer_res_labelled_transformed.WTE\n",
    "#         / exer_res_labelled_transformed.prescribed_repeats\n",
    "#     )\n",
    "#     exer_res_labelled_transformed[\"perc_GU\"] = (\n",
    "#         exer_res_labelled_transformed.GU\n",
    "#         / exer_res_labelled_transformed.prescribed_repeats\n",
    "#     )\n",
    "#     exer_res_labelled_transformed[\"perc_OML\"] = (\n",
    "#         exer_res_labelled_transformed.OML\n",
    "#         / exer_res_labelled_transformed.prescribed_repeats\n",
    "#     )\n",
    "#     exer_res_labelled_transformed[\"perc_WD\"] = (\n",
    "#         exer_res_labelled_transformed.WD\n",
    "#         / exer_res_labelled_transformed.prescribed_repeats\n",
    "#     )\n",
    "#     exer_res_labelled_transformed.reset_index(inplace=True)\n",
    "#     exer_res_labelled_transformed = exer_res_labelled_transformed.reindex(\n",
    "    #     columns=[\n",
    "    #         \"app_version\",\n",
    "    #         \"session_group\",\n",
    "    #         \"therapy_name\",\n",
    "    #         \"condition\",\n",
    "    #         \"pain\",\n",
    "    #         \"fatigue\",\n",
    "    #         \"quality\",\n",
    "    #         \"leave_session\",\n",
    "    #         \"leave_exercise_pain\",\n",
    "    #         \"leave_exercise_fatigue\",\n",
    "    #         \"leave_exercise_other\",\n",
    "    #         \"leave_exercise_tired\",\n",
    "    #         \"leave_exercise_system_problem\",\n",
    "    #         \"prescribed_repeats\",\n",
    "    #         \"training_time\",\n",
    "    #         \"perc_CM\",\n",
    "    #         \"perc_WTE\",\n",
    "    #         \"perc_ITE\",\n",
    "    #         \"perc_GU\",\n",
    "    #         \"perc_OML\",\n",
    "    #         \"perc_WD\",\n",
    "    #         \"perc_WM\",\n",
    "    #         \"number_exercises\",\n",
    "    #         \"number_of_distinct_exercises\",\n",
    "    #         \"exercise_with_most_incorrect\",\n",
    "    #         \"first_exercise_skipped\",\n",
    "    #     ]\n",
    "    # )\n",
    "#     exer_res_labelled_transformed.to_csv(output_file, index=False)\n",
    "#     print(f\"Transformation completed. Result saved to {output_file}\")\n",
    "\n",
    "\n",
    "# if __name__ == \"__main__\":\n",
    "#     input_file_path = \"data/exercise_results_labelled.csv\"\n",
    "#     output_file_path = \"data/transformed_exercise_results.csv\"\n",
    "#     process_csv(input_file_path, output_file_path)"
   ]
  },
  {
   "cell_type": "code",
   "execution_count": 1,
   "metadata": {},
   "outputs": [],
   "source": [
    "import pandas as pd\n",
    "df0 = pd.read_csv('./Data/exercise_results_labelled.csv')\n",
    "# df1 = pd.read_csv('./Data/result.csv', usecols=['app_version'])\n",
    "df1 = pd.read_csv('./Data/result.csv').sort_values('session_group').reset_index(drop=True)\n",
    "# df1 = pd.read_csv('./Data/exercise_results_unlabelled.csv')\n",
    "# df2 = pd.read_csv('./Data/session_results_labelled.csv', usecols=['app_version'])\n",
    "df2 = pd.read_csv('./Data/session_results_labelled.csv').sort_values('session_group').reset_index(drop=True)\n",
    "# diff = df1.compare(df2)\n",
    "# print(diff)"
   ]
  },
  {
   "cell_type": "code",
   "execution_count": 2,
   "metadata": {},
   "outputs": [
    {
     "name": "stdout",
     "output_type": "stream",
     "text": [
      "There are 1523 entries that are different out of 7115 total entries.\n"
     ]
    }
   ],
   "source": [
    "\n",
    "# Compare the 'exercise_with_most_incorrect' columns\n",
    "are_equal = df1['exercise_with_most_incorrect'] == df2['exercise_with_most_incorrect']\n",
    "\n",
    "# Count the number of False values (differences)\n",
    "num_differences = sum(~are_equal)\n",
    "\n",
    "print(f\"There are {num_differences} entries that are different out of {len(df1)} total entries.\")"
   ]
  },
  {
   "cell_type": "code",
   "execution_count": 7,
   "metadata": {},
   "outputs": [],
   "source": [
    "result = pd.read_csv('./Data/result.csv').sort_values('session_group').reset_index(drop=True)\n",
    "benchmark = pd.read_csv('./Data/session_results_labelled.csv').sort_values('session_group').reset_index(drop=True)"
   ]
  },
  {
   "cell_type": "code",
   "execution_count": 12,
   "metadata": {},
   "outputs": [
    {
     "data": {
      "text/plain": [
       "0                                                 NaN\n",
       "1                    scapular_plane_elevation_upright\n",
       "2                              knee_extension_sitting\n",
       "3             hip_flexion_with_knee_straight_standing\n",
       "4                              forward_lunge_standing\n",
       "5                          diagonal_2_flexion_upright\n",
       "6                         hip_hyperextension_standing\n",
       "7                          shoulder_abduction_upright\n",
       "8                            plantar_flexion_standing\n",
       "9                                                 NaN\n",
       "10                           shoulder_flexion_upright\n",
       "11                                                NaN\n",
       "12              shoulder_horizontal_abduction_upright\n",
       "13                             hip_abduction_standing\n",
       "14                             knee_extension_sitting\n",
       "15                                 side_step_standing\n",
       "16                             hip_abduction_standing\n",
       "17                            backward_lunge_standing\n",
       "18              shoulder_horizontal_abduction_upright\n",
       "19                                                NaN\n",
       "20                            backward_lunge_standing\n",
       "21                             forward_lunge_standing\n",
       "22                             shoulder_flexion_lying\n",
       "23                 shoulder_external_rotation_upright\n",
       "24                             forward_lunge_standing\n",
       "25                           shoulder_abduction_lying\n",
       "26                                  cat_camel_4_point\n",
       "27    shoulder_internal_rotation_in_abduction_upright\n",
       "28                                                NaN\n",
       "29                             hip_abduction_standing\n",
       "Name: exercise_with_most_incorrect, dtype: object"
      ]
     },
     "execution_count": 12,
     "metadata": {},
     "output_type": "execute_result"
    }
   ],
   "source": [
    "result[0:30]['exercise_with_most_incorrect']"
   ]
  },
  {
   "cell_type": "code",
   "execution_count": 13,
   "metadata": {},
   "outputs": [
    {
     "data": {
      "text/plain": [
       "0                                                 NaN\n",
       "1                    shoulder_external_rotation_lying\n",
       "2                              knee_extension_sitting\n",
       "3             hip_flexion_with_knee_straight_standing\n",
       "4                              forward_lunge_standing\n",
       "5                          diagonal_2_flexion_upright\n",
       "6                         hip_hyperextension_standing\n",
       "7                          shoulder_abduction_upright\n",
       "8                            plantar_flexion_standing\n",
       "9                                                 NaN\n",
       "10                           shoulder_flexion_upright\n",
       "11                                                NaN\n",
       "12              shoulder_horizontal_abduction_upright\n",
       "13                             hip_abduction_standing\n",
       "14                     side_lying_hip_abduction_lying\n",
       "15                                 side_step_standing\n",
       "16             hip_flexion_with_knee_bending_standing\n",
       "17                            backward_lunge_standing\n",
       "18              shoulder_horizontal_abduction_upright\n",
       "19                                                NaN\n",
       "20                            backward_lunge_standing\n",
       "21                             forward_lunge_standing\n",
       "22                             shoulder_flexion_lying\n",
       "23                 shoulder_external_rotation_upright\n",
       "24                     side_lying_hip_abduction_lying\n",
       "25                           shoulder_abduction_lying\n",
       "26                        trunk_side_bending_standing\n",
       "27    shoulder_internal_rotation_in_abduction_upright\n",
       "28                                                NaN\n",
       "29                             hip_abduction_standing\n",
       "Name: exercise_with_most_incorrect, dtype: object"
      ]
     },
     "execution_count": 13,
     "metadata": {},
     "output_type": "execute_result"
    }
   ],
   "source": [
    "benchmark[0:30]['exercise_with_most_incorrect']"
   ]
  },
  {
   "cell_type": "code",
   "execution_count": 7,
   "metadata": {},
   "outputs": [
    {
     "data": {
      "text/html": [
       "<div>\n",
       "<style scoped>\n",
       "    .dataframe tbody tr th:only-of-type {\n",
       "        vertical-align: middle;\n",
       "    }\n",
       "\n",
       "    .dataframe tbody tr th {\n",
       "        vertical-align: top;\n",
       "    }\n",
       "\n",
       "    .dataframe thead th {\n",
       "        text-align: right;\n",
       "    }\n",
       "</style>\n",
       "<table border=\"1\" class=\"dataframe\">\n",
       "  <thead>\n",
       "    <tr style=\"text-align: right;\">\n",
       "      <th></th>\n",
       "      <th>session_group</th>\n",
       "      <th>exercise_name</th>\n",
       "      <th>exercise_order</th>\n",
       "      <th>session_exercise_result_id</th>\n",
       "      <th>prescribed_repeats</th>\n",
       "      <th>training_time</th>\n",
       "      <th>app_version</th>\n",
       "      <th>pain</th>\n",
       "      <th>fatigue</th>\n",
       "      <th>leave_session</th>\n",
       "      <th>...</th>\n",
       "      <th>therapy_name</th>\n",
       "      <th>condition</th>\n",
       "      <th>CM</th>\n",
       "      <th>WTE</th>\n",
       "      <th>ITE</th>\n",
       "      <th>GU</th>\n",
       "      <th>OML</th>\n",
       "      <th>WD</th>\n",
       "      <th>WM</th>\n",
       "      <th>quality</th>\n",
       "    </tr>\n",
       "  </thead>\n",
       "  <tbody>\n",
       "    <tr>\n",
       "      <th>0</th>\n",
       "      <td>MLi8mxTUh95PVrvfIJ5hzCCmi4k=</td>\n",
       "      <td>hip_flexion_with_knee_bending_standing</td>\n",
       "      <td>1</td>\n",
       "      <td>1223643</td>\n",
       "      <td>20</td>\n",
       "      <td>63</td>\n",
       "      <td>202623131</td>\n",
       "      <td>6.0</td>\n",
       "      <td>4.0</td>\n",
       "      <td>NaN</td>\n",
       "      <td>...</td>\n",
       "      <td>knee</td>\n",
       "      <td>post_surgical_acl_reconstruction</td>\n",
       "      <td>20.0</td>\n",
       "      <td>0.0</td>\n",
       "      <td>0.0</td>\n",
       "      <td>0.0</td>\n",
       "      <td>0.0</td>\n",
       "      <td>0.0</td>\n",
       "      <td>0.0</td>\n",
       "      <td>ok</td>\n",
       "    </tr>\n",
       "    <tr>\n",
       "      <th>1</th>\n",
       "      <td>MLi8mxTUh95PVrvfIJ5hzCCmi4k=</td>\n",
       "      <td>unilateral_bridge_lying</td>\n",
       "      <td>15</td>\n",
       "      <td>1223657</td>\n",
       "      <td>12</td>\n",
       "      <td>45</td>\n",
       "      <td>202623131</td>\n",
       "      <td>6.0</td>\n",
       "      <td>4.0</td>\n",
       "      <td>NaN</td>\n",
       "      <td>...</td>\n",
       "      <td>knee</td>\n",
       "      <td>post_surgical_acl_reconstruction</td>\n",
       "      <td>12.0</td>\n",
       "      <td>0.0</td>\n",
       "      <td>0.0</td>\n",
       "      <td>0.0</td>\n",
       "      <td>0.0</td>\n",
       "      <td>0.0</td>\n",
       "      <td>0.0</td>\n",
       "      <td>ok</td>\n",
       "    </tr>\n",
       "    <tr>\n",
       "      <th>2</th>\n",
       "      <td>MLi8mxTUh95PVrvfIJ5hzCCmi4k=</td>\n",
       "      <td>forward_lunge_standing</td>\n",
       "      <td>7</td>\n",
       "      <td>1223649</td>\n",
       "      <td>12</td>\n",
       "      <td>75</td>\n",
       "      <td>202623131</td>\n",
       "      <td>6.0</td>\n",
       "      <td>4.0</td>\n",
       "      <td>NaN</td>\n",
       "      <td>...</td>\n",
       "      <td>knee</td>\n",
       "      <td>post_surgical_acl_reconstruction</td>\n",
       "      <td>12.0</td>\n",
       "      <td>0.0</td>\n",
       "      <td>0.0</td>\n",
       "      <td>0.0</td>\n",
       "      <td>0.0</td>\n",
       "      <td>0.0</td>\n",
       "      <td>0.0</td>\n",
       "      <td>ok</td>\n",
       "    </tr>\n",
       "    <tr>\n",
       "      <th>3</th>\n",
       "      <td>MLi8mxTUh95PVrvfIJ5hzCCmi4k=</td>\n",
       "      <td>squat_standing</td>\n",
       "      <td>2</td>\n",
       "      <td>1223644</td>\n",
       "      <td>15</td>\n",
       "      <td>67</td>\n",
       "      <td>202623131</td>\n",
       "      <td>6.0</td>\n",
       "      <td>4.0</td>\n",
       "      <td>NaN</td>\n",
       "      <td>...</td>\n",
       "      <td>knee</td>\n",
       "      <td>post_surgical_acl_reconstruction</td>\n",
       "      <td>15.0</td>\n",
       "      <td>0.0</td>\n",
       "      <td>0.0</td>\n",
       "      <td>0.0</td>\n",
       "      <td>0.0</td>\n",
       "      <td>0.0</td>\n",
       "      <td>0.0</td>\n",
       "      <td>ok</td>\n",
       "    </tr>\n",
       "    <tr>\n",
       "      <th>4</th>\n",
       "      <td>MLi8mxTUh95PVrvfIJ5hzCCmi4k=</td>\n",
       "      <td>plantar_flexion_standing</td>\n",
       "      <td>8</td>\n",
       "      <td>1223650</td>\n",
       "      <td>12</td>\n",
       "      <td>38</td>\n",
       "      <td>202623131</td>\n",
       "      <td>6.0</td>\n",
       "      <td>4.0</td>\n",
       "      <td>NaN</td>\n",
       "      <td>...</td>\n",
       "      <td>knee</td>\n",
       "      <td>post_surgical_acl_reconstruction</td>\n",
       "      <td>12.0</td>\n",
       "      <td>0.0</td>\n",
       "      <td>0.0</td>\n",
       "      <td>0.0</td>\n",
       "      <td>0.0</td>\n",
       "      <td>0.0</td>\n",
       "      <td>0.0</td>\n",
       "      <td>ok</td>\n",
       "    </tr>\n",
       "    <tr>\n",
       "      <th>5</th>\n",
       "      <td>MLi8mxTUh95PVrvfIJ5hzCCmi4k=</td>\n",
       "      <td>forward_lunge_standing</td>\n",
       "      <td>3</td>\n",
       "      <td>1223645</td>\n",
       "      <td>12</td>\n",
       "      <td>83</td>\n",
       "      <td>202623131</td>\n",
       "      <td>6.0</td>\n",
       "      <td>4.0</td>\n",
       "      <td>NaN</td>\n",
       "      <td>...</td>\n",
       "      <td>knee</td>\n",
       "      <td>post_surgical_acl_reconstruction</td>\n",
       "      <td>11.0</td>\n",
       "      <td>0.0</td>\n",
       "      <td>0.0</td>\n",
       "      <td>0.0</td>\n",
       "      <td>0.0</td>\n",
       "      <td>0.0</td>\n",
       "      <td>1.0</td>\n",
       "      <td>ok</td>\n",
       "    </tr>\n",
       "    <tr>\n",
       "      <th>6</th>\n",
       "      <td>MLi8mxTUh95PVrvfIJ5hzCCmi4k=</td>\n",
       "      <td>airplane_standing</td>\n",
       "      <td>9</td>\n",
       "      <td>1223651</td>\n",
       "      <td>12</td>\n",
       "      <td>45</td>\n",
       "      <td>202623131</td>\n",
       "      <td>6.0</td>\n",
       "      <td>4.0</td>\n",
       "      <td>NaN</td>\n",
       "      <td>...</td>\n",
       "      <td>knee</td>\n",
       "      <td>post_surgical_acl_reconstruction</td>\n",
       "      <td>12.0</td>\n",
       "      <td>0.0</td>\n",
       "      <td>0.0</td>\n",
       "      <td>0.0</td>\n",
       "      <td>0.0</td>\n",
       "      <td>0.0</td>\n",
       "      <td>0.0</td>\n",
       "      <td>ok</td>\n",
       "    </tr>\n",
       "    <tr>\n",
       "      <th>7</th>\n",
       "      <td>MLi8mxTUh95PVrvfIJ5hzCCmi4k=</td>\n",
       "      <td>forward_lunge_standing</td>\n",
       "      <td>11</td>\n",
       "      <td>1223653</td>\n",
       "      <td>12</td>\n",
       "      <td>73</td>\n",
       "      <td>202623131</td>\n",
       "      <td>6.0</td>\n",
       "      <td>4.0</td>\n",
       "      <td>NaN</td>\n",
       "      <td>...</td>\n",
       "      <td>knee</td>\n",
       "      <td>post_surgical_acl_reconstruction</td>\n",
       "      <td>12.0</td>\n",
       "      <td>0.0</td>\n",
       "      <td>0.0</td>\n",
       "      <td>0.0</td>\n",
       "      <td>0.0</td>\n",
       "      <td>0.0</td>\n",
       "      <td>0.0</td>\n",
       "      <td>ok</td>\n",
       "    </tr>\n",
       "    <tr>\n",
       "      <th>8</th>\n",
       "      <td>MLi8mxTUh95PVrvfIJ5hzCCmi4k=</td>\n",
       "      <td>plantar_flexion_standing</td>\n",
       "      <td>12</td>\n",
       "      <td>1223654</td>\n",
       "      <td>12</td>\n",
       "      <td>37</td>\n",
       "      <td>202623131</td>\n",
       "      <td>6.0</td>\n",
       "      <td>4.0</td>\n",
       "      <td>NaN</td>\n",
       "      <td>...</td>\n",
       "      <td>knee</td>\n",
       "      <td>post_surgical_acl_reconstruction</td>\n",
       "      <td>12.0</td>\n",
       "      <td>0.0</td>\n",
       "      <td>0.0</td>\n",
       "      <td>0.0</td>\n",
       "      <td>0.0</td>\n",
       "      <td>0.0</td>\n",
       "      <td>0.0</td>\n",
       "      <td>ok</td>\n",
       "    </tr>\n",
       "    <tr>\n",
       "      <th>9</th>\n",
       "      <td>MLi8mxTUh95PVrvfIJ5hzCCmi4k=</td>\n",
       "      <td>squat_standing</td>\n",
       "      <td>6</td>\n",
       "      <td>1223648</td>\n",
       "      <td>15</td>\n",
       "      <td>70</td>\n",
       "      <td>202623131</td>\n",
       "      <td>6.0</td>\n",
       "      <td>4.0</td>\n",
       "      <td>NaN</td>\n",
       "      <td>...</td>\n",
       "      <td>knee</td>\n",
       "      <td>post_surgical_acl_reconstruction</td>\n",
       "      <td>15.0</td>\n",
       "      <td>0.0</td>\n",
       "      <td>0.0</td>\n",
       "      <td>0.0</td>\n",
       "      <td>0.0</td>\n",
       "      <td>0.0</td>\n",
       "      <td>0.0</td>\n",
       "      <td>ok</td>\n",
       "    </tr>\n",
       "  </tbody>\n",
       "</table>\n",
       "<p>10 rows × 22 columns</p>\n",
       "</div>"
      ],
      "text/plain": [
       "                  session_group                           exercise_name  \\\n",
       "0  MLi8mxTUh95PVrvfIJ5hzCCmi4k=  hip_flexion_with_knee_bending_standing   \n",
       "1  MLi8mxTUh95PVrvfIJ5hzCCmi4k=                 unilateral_bridge_lying   \n",
       "2  MLi8mxTUh95PVrvfIJ5hzCCmi4k=                  forward_lunge_standing   \n",
       "3  MLi8mxTUh95PVrvfIJ5hzCCmi4k=                          squat_standing   \n",
       "4  MLi8mxTUh95PVrvfIJ5hzCCmi4k=                plantar_flexion_standing   \n",
       "5  MLi8mxTUh95PVrvfIJ5hzCCmi4k=                  forward_lunge_standing   \n",
       "6  MLi8mxTUh95PVrvfIJ5hzCCmi4k=                       airplane_standing   \n",
       "7  MLi8mxTUh95PVrvfIJ5hzCCmi4k=                  forward_lunge_standing   \n",
       "8  MLi8mxTUh95PVrvfIJ5hzCCmi4k=                plantar_flexion_standing   \n",
       "9  MLi8mxTUh95PVrvfIJ5hzCCmi4k=                          squat_standing   \n",
       "\n",
       "   exercise_order  session_exercise_result_id  prescribed_repeats  \\\n",
       "0               1                     1223643                  20   \n",
       "1              15                     1223657                  12   \n",
       "2               7                     1223649                  12   \n",
       "3               2                     1223644                  15   \n",
       "4               8                     1223650                  12   \n",
       "5               3                     1223645                  12   \n",
       "6               9                     1223651                  12   \n",
       "7              11                     1223653                  12   \n",
       "8              12                     1223654                  12   \n",
       "9               6                     1223648                  15   \n",
       "\n",
       "   training_time  app_version  pain  fatigue leave_session  ... therapy_name  \\\n",
       "0             63    202623131   6.0      4.0           NaN  ...         knee   \n",
       "1             45    202623131   6.0      4.0           NaN  ...         knee   \n",
       "2             75    202623131   6.0      4.0           NaN  ...         knee   \n",
       "3             67    202623131   6.0      4.0           NaN  ...         knee   \n",
       "4             38    202623131   6.0      4.0           NaN  ...         knee   \n",
       "5             83    202623131   6.0      4.0           NaN  ...         knee   \n",
       "6             45    202623131   6.0      4.0           NaN  ...         knee   \n",
       "7             73    202623131   6.0      4.0           NaN  ...         knee   \n",
       "8             37    202623131   6.0      4.0           NaN  ...         knee   \n",
       "9             70    202623131   6.0      4.0           NaN  ...         knee   \n",
       "\n",
       "                          condition    CM  WTE  ITE   GU  OML   WD   WM  \\\n",
       "0  post_surgical_acl_reconstruction  20.0  0.0  0.0  0.0  0.0  0.0  0.0   \n",
       "1  post_surgical_acl_reconstruction  12.0  0.0  0.0  0.0  0.0  0.0  0.0   \n",
       "2  post_surgical_acl_reconstruction  12.0  0.0  0.0  0.0  0.0  0.0  0.0   \n",
       "3  post_surgical_acl_reconstruction  15.0  0.0  0.0  0.0  0.0  0.0  0.0   \n",
       "4  post_surgical_acl_reconstruction  12.0  0.0  0.0  0.0  0.0  0.0  0.0   \n",
       "5  post_surgical_acl_reconstruction  11.0  0.0  0.0  0.0  0.0  0.0  1.0   \n",
       "6  post_surgical_acl_reconstruction  12.0  0.0  0.0  0.0  0.0  0.0  0.0   \n",
       "7  post_surgical_acl_reconstruction  12.0  0.0  0.0  0.0  0.0  0.0  0.0   \n",
       "8  post_surgical_acl_reconstruction  12.0  0.0  0.0  0.0  0.0  0.0  0.0   \n",
       "9  post_surgical_acl_reconstruction  15.0  0.0  0.0  0.0  0.0  0.0  0.0   \n",
       "\n",
       "   quality  \n",
       "0       ok  \n",
       "1       ok  \n",
       "2       ok  \n",
       "3       ok  \n",
       "4       ok  \n",
       "5       ok  \n",
       "6       ok  \n",
       "7       ok  \n",
       "8       ok  \n",
       "9       ok  \n",
       "\n",
       "[10 rows x 22 columns]"
      ]
     },
     "execution_count": 7,
     "metadata": {},
     "output_type": "execute_result"
    }
   ],
   "source": [
    "df0.head(10)"
   ]
  },
  {
   "cell_type": "code",
   "execution_count": 70,
   "metadata": {},
   "outputs": [
    {
     "data": {
      "text/plain": [
       "session_group                    2ZrXDTgqB60Ijfp6iuVpDljJz+s=\n",
       "app_version                                         203051191\n",
       "therapy_name                                             knee\n",
       "condition                                     ligament_injury\n",
       "pain                                                      6.0\n",
       "fatigue                                                   4.0\n",
       "leave_session                                             NaN\n",
       "quality                                                    ok\n",
       "leave_exercise_pain                                         0\n",
       "leave_exercise_fatigue                                      0\n",
       "leave_exercise_other                                        0\n",
       "leave_exercise_tired                                        0\n",
       "leave_exercise_system_problem                               0\n",
       "prescribed_repeats                                        232\n",
       "training_time                                            1123\n",
       "number_exercises                                           25\n",
       "number_of_distinct_exercises                               11\n",
       "exercise_with_most_incorrect                 pistols_standing\n",
       "first_exercise_skipped                       pistols_standing\n",
       "perc_CM                                              0.948276\n",
       "perc_WTE                                                  0.0\n",
       "perc_ITE                                              0.00431\n",
       "perc_GU                                                   0.0\n",
       "perc_OML                                                  0.0\n",
       "perc_WD                                                   0.0\n",
       "perc_WM                                              0.047414\n",
       "Name: 540, dtype: object"
      ]
     },
     "execution_count": 70,
     "metadata": {},
     "output_type": "execute_result"
    }
   ],
   "source": [
    "df1.iloc[540]"
   ]
  },
  {
   "cell_type": "code",
   "execution_count": 71,
   "metadata": {},
   "outputs": [
    {
     "data": {
      "text/plain": [
       "app_version                                           203051191\n",
       "session_group                      2ZrXDTgqB60Ijfp6iuVpDljJz+s=\n",
       "therapy_name                                               knee\n",
       "condition                                       ligament_injury\n",
       "pain                                                        6.0\n",
       "fatigue                                                     4.0\n",
       "quality                                                      ok\n",
       "leave_session                                               NaN\n",
       "leave_exercise_pain                                           0\n",
       "leave_exercise_fatigue                                        0\n",
       "leave_exercise_other                                          0\n",
       "leave_exercise_tired                                          0\n",
       "leave_exercise_system_problem                                 0\n",
       "prescribed_repeats                                          232\n",
       "training_time                                              1123\n",
       "perc_CM                                                0.948276\n",
       "perc_WTE                                                    0.0\n",
       "perc_ITE                                                0.00431\n",
       "perc_GU                                                     0.0\n",
       "perc_OML                                                    0.0\n",
       "perc_WD                                                     0.0\n",
       "perc_WM                                                0.047414\n",
       "number_exercises                                             25\n",
       "number_of_distinct_exercises                                 11\n",
       "exercise_with_most_incorrect     side_lying_hip_abduction_lying\n",
       "first_exercise_skipped                                      NaN\n",
       "Name: 540, dtype: object"
      ]
     },
     "execution_count": 71,
     "metadata": {},
     "output_type": "execute_result"
    }
   ],
   "source": [
    "df2.iloc[540]"
   ]
  },
  {
   "cell_type": "code",
   "execution_count": null,
   "metadata": {},
   "outputs": [],
   "source": []
  },
  {
   "cell_type": "code",
   "execution_count": 2,
   "metadata": {},
   "outputs": [
    {
     "data": {
      "text/html": [
       "<div>\n",
       "<style scoped>\n",
       "    .dataframe tbody tr th:only-of-type {\n",
       "        vertical-align: middle;\n",
       "    }\n",
       "\n",
       "    .dataframe tbody tr th {\n",
       "        vertical-align: top;\n",
       "    }\n",
       "\n",
       "    .dataframe thead th {\n",
       "        text-align: right;\n",
       "    }\n",
       "</style>\n",
       "<table border=\"1\" class=\"dataframe\">\n",
       "  <thead>\n",
       "    <tr style=\"text-align: right;\">\n",
       "      <th></th>\n",
       "      <th>session_group</th>\n",
       "      <th>app_version</th>\n",
       "      <th>therapy_name</th>\n",
       "      <th>condition</th>\n",
       "      <th>pain</th>\n",
       "      <th>fatigue</th>\n",
       "      <th>leave_session</th>\n",
       "      <th>quality</th>\n",
       "      <th>leave_exercise_pain</th>\n",
       "      <th>leave_exercise_fatigue</th>\n",
       "      <th>...</th>\n",
       "      <th>number_of_distinct_exercises</th>\n",
       "      <th>exercise_with_most_incorrect</th>\n",
       "      <th>first_exercise_skipped</th>\n",
       "      <th>perc_CM</th>\n",
       "      <th>perc_WTE</th>\n",
       "      <th>perc_ITE</th>\n",
       "      <th>perc_GU</th>\n",
       "      <th>perc_OML</th>\n",
       "      <th>perc_WD</th>\n",
       "      <th>perc_WM</th>\n",
       "    </tr>\n",
       "  </thead>\n",
       "  <tbody>\n",
       "    <tr>\n",
       "      <th>0</th>\n",
       "      <td>++73HsBtM9Yjm7cCGQwqxuN/Lrw=</td>\n",
       "      <td>202623131</td>\n",
       "      <td>elbow</td>\n",
       "      <td>ulna_fracture</td>\n",
       "      <td>4.0</td>\n",
       "      <td>4.0</td>\n",
       "      <td>NaN</td>\n",
       "      <td>ok</td>\n",
       "      <td>0</td>\n",
       "      <td>0</td>\n",
       "      <td>...</td>\n",
       "      <td>12</td>\n",
       "      <td>NaN</td>\n",
       "      <td>pendulum_upright</td>\n",
       "      <td>1.000000</td>\n",
       "      <td>0.000000</td>\n",
       "      <td>0.0</td>\n",
       "      <td>0.0</td>\n",
       "      <td>0.0</td>\n",
       "      <td>0.0</td>\n",
       "      <td>0.000000</td>\n",
       "    </tr>\n",
       "    <tr>\n",
       "      <th>1</th>\n",
       "      <td>++DVzL8W7kOsaDaszXjJCgNQaVc=</td>\n",
       "      <td>203051191</td>\n",
       "      <td>shoulder</td>\n",
       "      <td>post_surgical_rotator_cuff_reconstruction</td>\n",
       "      <td>4.0</td>\n",
       "      <td>4.0</td>\n",
       "      <td>NaN</td>\n",
       "      <td>ok</td>\n",
       "      <td>0</td>\n",
       "      <td>0</td>\n",
       "      <td>...</td>\n",
       "      <td>19</td>\n",
       "      <td>shoulder_external_rotation_lying</td>\n",
       "      <td>shoulder_external_rotation_lying</td>\n",
       "      <td>0.980645</td>\n",
       "      <td>0.003226</td>\n",
       "      <td>0.0</td>\n",
       "      <td>0.0</td>\n",
       "      <td>0.0</td>\n",
       "      <td>0.0</td>\n",
       "      <td>0.016129</td>\n",
       "    </tr>\n",
       "    <tr>\n",
       "      <th>2</th>\n",
       "      <td>++KPFJPUlbmglcKGjWydvpRby3Y=</td>\n",
       "      <td>203224171</td>\n",
       "      <td>knee</td>\n",
       "      <td>muscle_strain</td>\n",
       "      <td>4.0</td>\n",
       "      <td>2.0</td>\n",
       "      <td>NaN</td>\n",
       "      <td>ok</td>\n",
       "      <td>0</td>\n",
       "      <td>0</td>\n",
       "      <td>...</td>\n",
       "      <td>10</td>\n",
       "      <td>knee_extension_sitting</td>\n",
       "      <td>straight_leg_raise_lying</td>\n",
       "      <td>0.993421</td>\n",
       "      <td>0.000000</td>\n",
       "      <td>0.0</td>\n",
       "      <td>0.0</td>\n",
       "      <td>0.0</td>\n",
       "      <td>0.0</td>\n",
       "      <td>0.006579</td>\n",
       "    </tr>\n",
       "    <tr>\n",
       "      <th>3</th>\n",
       "      <td>++aAbPuW/H9vB8GWf7F/g6MADA0=</td>\n",
       "      <td>202623131</td>\n",
       "      <td>knee</td>\n",
       "      <td>knee_osteoarthritis</td>\n",
       "      <td>4.0</td>\n",
       "      <td>2.0</td>\n",
       "      <td>NaN</td>\n",
       "      <td>ok</td>\n",
       "      <td>0</td>\n",
       "      <td>0</td>\n",
       "      <td>...</td>\n",
       "      <td>17</td>\n",
       "      <td>side_lying_hip_abduction_lying</td>\n",
       "      <td>stand_to_sit_sitting</td>\n",
       "      <td>0.961806</td>\n",
       "      <td>0.003472</td>\n",
       "      <td>0.0</td>\n",
       "      <td>0.0</td>\n",
       "      <td>0.0</td>\n",
       "      <td>0.0</td>\n",
       "      <td>0.034722</td>\n",
       "    </tr>\n",
       "    <tr>\n",
       "      <th>4</th>\n",
       "      <td>++oF9AP4AUlaC42jG8q8Zs5n9YM=</td>\n",
       "      <td>202623131</td>\n",
       "      <td>ankle</td>\n",
       "      <td>surgical_anklefracture</td>\n",
       "      <td>4.0</td>\n",
       "      <td>4.0</td>\n",
       "      <td>NaN</td>\n",
       "      <td>ok</td>\n",
       "      <td>0</td>\n",
       "      <td>0</td>\n",
       "      <td>...</td>\n",
       "      <td>20</td>\n",
       "      <td>forward_lunge_standing</td>\n",
       "      <td>unilateral_bridge_lying</td>\n",
       "      <td>0.990291</td>\n",
       "      <td>0.000000</td>\n",
       "      <td>0.0</td>\n",
       "      <td>0.0</td>\n",
       "      <td>0.0</td>\n",
       "      <td>0.0</td>\n",
       "      <td>0.009709</td>\n",
       "    </tr>\n",
       "  </tbody>\n",
       "</table>\n",
       "<p>5 rows × 26 columns</p>\n",
       "</div>"
      ],
      "text/plain": [
       "                  session_group  app_version therapy_name  \\\n",
       "0  ++73HsBtM9Yjm7cCGQwqxuN/Lrw=    202623131        elbow   \n",
       "1  ++DVzL8W7kOsaDaszXjJCgNQaVc=    203051191     shoulder   \n",
       "2  ++KPFJPUlbmglcKGjWydvpRby3Y=    203224171         knee   \n",
       "3  ++aAbPuW/H9vB8GWf7F/g6MADA0=    202623131         knee   \n",
       "4  ++oF9AP4AUlaC42jG8q8Zs5n9YM=    202623131        ankle   \n",
       "\n",
       "                                   condition  pain  fatigue leave_session  \\\n",
       "0                              ulna_fracture   4.0      4.0           NaN   \n",
       "1  post_surgical_rotator_cuff_reconstruction   4.0      4.0           NaN   \n",
       "2                              muscle_strain   4.0      2.0           NaN   \n",
       "3                        knee_osteoarthritis   4.0      2.0           NaN   \n",
       "4                     surgical_anklefracture   4.0      4.0           NaN   \n",
       "\n",
       "  quality  leave_exercise_pain  leave_exercise_fatigue  ...  \\\n",
       "0      ok                    0                       0  ...   \n",
       "1      ok                    0                       0  ...   \n",
       "2      ok                    0                       0  ...   \n",
       "3      ok                    0                       0  ...   \n",
       "4      ok                    0                       0  ...   \n",
       "\n",
       "   number_of_distinct_exercises      exercise_with_most_incorrect  \\\n",
       "0                            12                               NaN   \n",
       "1                            19  shoulder_external_rotation_lying   \n",
       "2                            10            knee_extension_sitting   \n",
       "3                            17    side_lying_hip_abduction_lying   \n",
       "4                            20            forward_lunge_standing   \n",
       "\n",
       "             first_exercise_skipped   perc_CM  perc_WTE  perc_ITE  perc_GU  \\\n",
       "0                  pendulum_upright  1.000000  0.000000       0.0      0.0   \n",
       "1  shoulder_external_rotation_lying  0.980645  0.003226       0.0      0.0   \n",
       "2          straight_leg_raise_lying  0.993421  0.000000       0.0      0.0   \n",
       "3              stand_to_sit_sitting  0.961806  0.003472       0.0      0.0   \n",
       "4           unilateral_bridge_lying  0.990291  0.000000       0.0      0.0   \n",
       "\n",
       "  perc_OML perc_WD   perc_WM  \n",
       "0      0.0     0.0  0.000000  \n",
       "1      0.0     0.0  0.016129  \n",
       "2      0.0     0.0  0.006579  \n",
       "3      0.0     0.0  0.034722  \n",
       "4      0.0     0.0  0.009709  \n",
       "\n",
       "[5 rows x 26 columns]"
      ]
     },
     "execution_count": 2,
     "metadata": {},
     "output_type": "execute_result"
    }
   ],
   "source": [
    "df1.head()"
   ]
  },
  {
   "cell_type": "code",
   "execution_count": null,
   "metadata": {},
   "outputs": [],
   "source": []
  },
  {
   "cell_type": "code",
   "execution_count": null,
   "metadata": {},
   "outputs": [],
   "source": []
  },
  {
   "cell_type": "code",
   "execution_count": null,
   "metadata": {},
   "outputs": [],
   "source": []
  },
  {
   "cell_type": "code",
   "execution_count": 4,
   "metadata": {},
   "outputs": [
    {
     "data": {
      "text/html": [
       "<div>\n",
       "<style scoped>\n",
       "    .dataframe tbody tr th:only-of-type {\n",
       "        vertical-align: middle;\n",
       "    }\n",
       "\n",
       "    .dataframe tbody tr th {\n",
       "        vertical-align: top;\n",
       "    }\n",
       "\n",
       "    .dataframe thead th {\n",
       "        text-align: right;\n",
       "    }\n",
       "</style>\n",
       "<table border=\"1\" class=\"dataframe\">\n",
       "  <thead>\n",
       "    <tr style=\"text-align: right;\">\n",
       "      <th></th>\n",
       "      <th>leave_session</th>\n",
       "      <th>quality</th>\n",
       "    </tr>\n",
       "  </thead>\n",
       "  <tbody>\n",
       "    <tr>\n",
       "      <th>5</th>\n",
       "      <td>NaN</td>\n",
       "      <td>nok</td>\n",
       "    </tr>\n",
       "    <tr>\n",
       "      <th>23</th>\n",
       "      <td>NaN</td>\n",
       "      <td>nok</td>\n",
       "    </tr>\n",
       "    <tr>\n",
       "      <th>25</th>\n",
       "      <td>NaN</td>\n",
       "      <td>nok</td>\n",
       "    </tr>\n",
       "    <tr>\n",
       "      <th>59</th>\n",
       "      <td>NaN</td>\n",
       "      <td>nok</td>\n",
       "    </tr>\n",
       "    <tr>\n",
       "      <th>67</th>\n",
       "      <td>NaN</td>\n",
       "      <td>nok</td>\n",
       "    </tr>\n",
       "    <tr>\n",
       "      <th>...</th>\n",
       "      <td>...</td>\n",
       "      <td>...</td>\n",
       "    </tr>\n",
       "    <tr>\n",
       "      <th>6687</th>\n",
       "      <td>NaN</td>\n",
       "      <td>nok</td>\n",
       "    </tr>\n",
       "    <tr>\n",
       "      <th>6711</th>\n",
       "      <td>NaN</td>\n",
       "      <td>nok</td>\n",
       "    </tr>\n",
       "    <tr>\n",
       "      <th>6755</th>\n",
       "      <td>NaN</td>\n",
       "      <td>nok</td>\n",
       "    </tr>\n",
       "    <tr>\n",
       "      <th>6956</th>\n",
       "      <td>NaN</td>\n",
       "      <td>nok</td>\n",
       "    </tr>\n",
       "    <tr>\n",
       "      <th>7073</th>\n",
       "      <td>NaN</td>\n",
       "      <td>nok</td>\n",
       "    </tr>\n",
       "  </tbody>\n",
       "</table>\n",
       "<p>157 rows × 2 columns</p>\n",
       "</div>"
      ],
      "text/plain": [
       "     leave_session quality\n",
       "5              NaN     nok\n",
       "23             NaN     nok\n",
       "25             NaN     nok\n",
       "59             NaN     nok\n",
       "67             NaN     nok\n",
       "...            ...     ...\n",
       "6687           NaN     nok\n",
       "6711           NaN     nok\n",
       "6755           NaN     nok\n",
       "6956           NaN     nok\n",
       "7073           NaN     nok\n",
       "\n",
       "[157 rows x 2 columns]"
      ]
     },
     "execution_count": 4,
     "metadata": {},
     "output_type": "execute_result"
    }
   ],
   "source": [
    "\n",
    "df1[(df1.leave_session != \"system_problem\") & (df1.quality == \"nok\")].loc[:,[\"leave_session\", \"quality\"]]"
   ]
  },
  {
   "cell_type": "code",
   "execution_count": 14,
   "metadata": {},
   "outputs": [
    {
     "data": {
      "text/plain": [
       "session_group                       0\n",
       "app_version                         0\n",
       "therapy_name                        0\n",
       "condition                           0\n",
       "pain                              132\n",
       "fatigue                           133\n",
       "leave_session                    6965\n",
       "quality                             0\n",
       "leave_exercise_pain                 0\n",
       "leave_exercise_fatigue              0\n",
       "leave_exercise_other                0\n",
       "leave_exercise_tired                0\n",
       "leave_exercise_system_problem       0\n",
       "prescribed_repeats                  0\n",
       "training_time                       0\n",
       "number_exercises                    0\n",
       "number_of_distinct_exercises        0\n",
       "exercise_with_most_incorrect      734\n",
       "first_exercise_skipped              0\n",
       "perc_CM                            40\n",
       "perc_WTE                           40\n",
       "perc_ITE                           40\n",
       "perc_GU                            40\n",
       "perc_OML                           40\n",
       "perc_WD                            40\n",
       "perc_WM                            40\n",
       "dtype: int64"
      ]
     },
     "execution_count": 14,
     "metadata": {},
     "output_type": "execute_result"
    }
   ],
   "source": [
    "df1.isna().sum()\n"
   ]
  },
  {
   "cell_type": "code",
   "execution_count": 15,
   "metadata": {},
   "outputs": [
    {
     "data": {
      "text/plain": [
       "app_version                         0\n",
       "session_group                       0\n",
       "therapy_name                        0\n",
       "condition                           0\n",
       "pain                              132\n",
       "fatigue                           133\n",
       "quality                             0\n",
       "leave_session                    6965\n",
       "leave_exercise_pain                 0\n",
       "leave_exercise_fatigue              0\n",
       "leave_exercise_other                0\n",
       "leave_exercise_tired                0\n",
       "leave_exercise_system_problem       0\n",
       "prescribed_repeats                  0\n",
       "training_time                       0\n",
       "perc_CM                            40\n",
       "perc_WTE                           40\n",
       "perc_ITE                           40\n",
       "perc_GU                            40\n",
       "perc_OML                           40\n",
       "perc_WD                            40\n",
       "perc_WM                            40\n",
       "number_exercises                    0\n",
       "number_of_distinct_exercises        0\n",
       "exercise_with_most_incorrect      734\n",
       "first_exercise_skipped           6597\n",
       "dtype: int64"
      ]
     },
     "execution_count": 15,
     "metadata": {},
     "output_type": "execute_result"
    }
   ],
   "source": [
    "df2.isna().sum()"
   ]
  },
  {
   "cell_type": "code",
   "execution_count": 11,
   "metadata": {},
   "outputs": [
    {
     "data": {
      "text/plain": [
       "app_version                        int64\n",
       "condition                         object\n",
       "exercise_with_most_incorrect      object\n",
       "fatigue                          float64\n",
       "first_exercise_skipped            object\n",
       "leave_exercise_fatigue             int64\n",
       "leave_exercise_other               int64\n",
       "leave_exercise_pain                int64\n",
       "leave_exercise_system_problem      int64\n",
       "leave_exercise_tired               int64\n",
       "leave_session                     object\n",
       "number_exercises                   int64\n",
       "number_of_distinct_exercises       int64\n",
       "pain                             float64\n",
       "perc_CM                          float64\n",
       "perc_GU                          float64\n",
       "perc_ITE                         float64\n",
       "perc_OML                         float64\n",
       "perc_WD                          float64\n",
       "perc_WM                          float64\n",
       "perc_WTE                         float64\n",
       "prescribed_repeats                 int64\n",
       "quality                           object\n",
       "session_group                     object\n",
       "therapy_name                      object\n",
       "training_time                      int64\n",
       "dtype: object"
      ]
     },
     "execution_count": 11,
     "metadata": {},
     "output_type": "execute_result"
    }
   ],
   "source": [
    "df1.dtypes.sort_values().sort_index()"
   ]
  },
  {
   "cell_type": "code",
   "execution_count": 12,
   "metadata": {},
   "outputs": [
    {
     "data": {
      "text/plain": [
       "app_version                        int64\n",
       "condition                         object\n",
       "exercise_with_most_incorrect      object\n",
       "fatigue                          float64\n",
       "first_exercise_skipped            object\n",
       "leave_exercise_fatigue             int64\n",
       "leave_exercise_other               int64\n",
       "leave_exercise_pain                int64\n",
       "leave_exercise_system_problem      int64\n",
       "leave_exercise_tired               int64\n",
       "leave_session                     object\n",
       "number_exercises                   int64\n",
       "number_of_distinct_exercises       int64\n",
       "pain                             float64\n",
       "perc_CM                          float64\n",
       "perc_GU                          float64\n",
       "perc_ITE                         float64\n",
       "perc_OML                         float64\n",
       "perc_WD                          float64\n",
       "perc_WM                          float64\n",
       "perc_WTE                         float64\n",
       "prescribed_repeats                 int64\n",
       "quality                           object\n",
       "session_group                     object\n",
       "therapy_name                      object\n",
       "training_time                      int64\n",
       "dtype: object"
      ]
     },
     "execution_count": 12,
     "metadata": {},
     "output_type": "execute_result"
    }
   ],
   "source": [
    "df2.dtypes.sort_values().sort_index()"
   ]
  },
  {
   "cell_type": "code",
   "execution_count": 4,
   "metadata": {},
   "outputs": [
    {
     "name": "stdout",
     "output_type": "stream",
     "text": [
      "Unique values in df1:\n",
      "exercise_with_most_incorrect\n",
      "shoulder_flexion_upright                             367\n",
      "hip_abduction_standing                               362\n",
      "side_lunge_standing                                  348\n",
      "diagonal_2_flexion_upright                           309\n",
      "forward_lunge_standing                               297\n",
      "                                                    ... \n",
      "lying_neck_bending_lying                               2\n",
      "forearm_supination_with_hand_on_the_belly_upright      1\n",
      "neck_strengthening_sitting                             1\n",
      "forearm_pronation_with_hand_on_the_belly_upright       1\n",
      "shoulder_internal_rotation_lying                       1\n",
      "Name: count, Length: 107, dtype: int64\n",
      "\n",
      "Unique values in df2:\n",
      "exercise_with_most_incorrect\n",
      "hip_abduction_standing                               370\n",
      "side_lunge_standing                                  359\n",
      "shoulder_flexion_upright                             354\n",
      "diagonal_2_flexion_upright                           318\n",
      "forward_lunge_standing                               272\n",
      "                                                    ... \n",
      "shoulder_internal_rotation_lying                       1\n",
      "forearm_supination_with_hand_on_the_belly_upright      1\n",
      "elbow_flexion_lying                                    1\n",
      "lying_neck_bending_lying                               1\n",
      "neck_strengthening_sitting                             1\n",
      "Name: count, Length: 109, dtype: int64\n"
     ]
    }
   ],
   "source": [
    "print(\"Unique values in df1:\")\n",
    "print(df1['exercise_with_most_incorrect'].value_counts())\n",
    "print(\"\\nUnique values in df2:\")\n",
    "print(df2['exercise_with_most_incorrect'].value_counts())\n"
   ]
  },
  {
   "cell_type": "code",
   "execution_count": 6,
   "metadata": {},
   "outputs": [
    {
     "name": "stdout",
     "output_type": "stream",
     "text": [
      "The 'exercise_with_most_incorrect' values are in the same order: False\n"
     ]
    }
   ],
   "source": [
    "# Check if the 'app_version' values are in the same order\n",
    "is_same_order = (df1['exercise_with_most_incorrect'].reset_index(drop=True) == df2['exercise_with_most_incorrect'].reset_index(drop=True)).all()\n",
    "print(f\"The 'exercise_with_most_incorrect' values are in the same order: {is_same_order}\")\n"
   ]
  },
  {
   "cell_type": "code",
   "execution_count": 10,
   "metadata": {},
   "outputs": [
    {
     "data": {
      "text/plain": [
       "26"
      ]
     },
     "execution_count": 10,
     "metadata": {},
     "output_type": "execute_result"
    }
   ],
   "source": [
    "len(df1.columns)\n"
   ]
  },
  {
   "cell_type": "code",
   "execution_count": 9,
   "metadata": {},
   "outputs": [
    {
     "data": {
      "text/plain": [
       "26"
      ]
     },
     "execution_count": 9,
     "metadata": {},
     "output_type": "execute_result"
    }
   ],
   "source": [
    "len(df2.columns)"
   ]
  },
  {
   "cell_type": "code",
   "execution_count": null,
   "metadata": {},
   "outputs": [],
   "source": [
    "are_equal = df1 == df2\n",
    "print(are_equal)"
   ]
  },
  {
   "cell_type": "code",
   "execution_count": null,
   "metadata": {},
   "outputs": [],
   "source": [
    "diff = df1.compare(df2)\n",
    "print(diff)"
   ]
  }
 ],
 "metadata": {
  "kernelspec": {
   "display_name": "Python 3",
   "language": "python",
   "name": "python3"
  },
  "language_info": {
   "codemirror_mode": {
    "name": "ipython",
    "version": 3
   },
   "file_extension": ".py",
   "mimetype": "text/x-python",
   "name": "python",
   "nbconvert_exporter": "python",
   "pygments_lexer": "ipython3",
   "version": "3.11.8"
  }
 },
 "nbformat": 4,
 "nbformat_minor": 2
}
