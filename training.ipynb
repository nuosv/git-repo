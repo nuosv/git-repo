{
 "cells": [
  {
   "cell_type": "code",
   "execution_count": null,
   "metadata": {},
   "outputs": [],
   "source": [
    "class PartyAnimal:\n",
    "    \n",
    "    def __init___(self, nam):\n",
    "        self.x = 0\n",
    "        self.name = nam\n",
    "        print(self.name,\"constructed\")\n",
    "    def party(self):\n",
    "        self.x = self.x + 1\n",
    "        print(self.name, \"party count\", self.x)\n",
    "\n",
    "class FootballFan(PartyAnimal):\n",
    "    def __init__(self, nam):\n",
    "        super().__init__(nam)\n",
    "        self.points = 0\n",
    "    def touchdown(self):\n",
    "        self.points = self.points + 7\n",
    "        self.party()\n",
    "        print(self.name, \"points\", self.points)"
   ]
  },
  {
   "cell_type": "code",
   "execution_count": null,
   "metadata": {},
   "outputs": [],
   "source": [
    "class Tweet:\n",
    "    def __init__(self, y):\n",
    "        self.nameofmethod = y"
   ]
  },
  {
   "cell_type": "code",
   "execution_count": null,
   "metadata": {},
   "outputs": [],
   "source": [
    "a = Tweet(\"wow\")\n",
    "a.nameofmethod"
   ]
  }
 ],
 "metadata": {
  "kernelspec": {
   "display_name": "ml-with-pytorch-course-u6eW_lmL-py3.9",
   "language": "python",
   "name": "python3"
  },
  "language_info": {
   "name": "python",
   "version": "3.9.0"
  }
 },
 "nbformat": 4,
 "nbformat_minor": 2
}
